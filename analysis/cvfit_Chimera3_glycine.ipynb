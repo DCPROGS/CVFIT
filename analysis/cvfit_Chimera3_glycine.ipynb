{
 "cells": [
  {
   "cell_type": "code",
   "execution_count": 1,
   "metadata": {},
   "outputs": [],
   "source": [
    "%matplotlib inline"
   ]
  },
  {
   "cell_type": "code",
   "execution_count": 2,
   "metadata": {},
   "outputs": [],
   "source": [
    "from pylab import*\n",
    "import numpy as np"
   ]
  },
  {
   "cell_type": "code",
   "execution_count": 3,
   "metadata": {},
   "outputs": [],
   "source": [
    "#import sys\n",
    "#sys.path.append('\\CVFIT')"
   ]
  },
  {
   "cell_type": "code",
   "execution_count": 4,
   "metadata": {},
   "outputs": [],
   "source": [
    "#from cvfit import fitting\n",
    "from cvfit.fitting import SingleFitSession\n",
    "from cvfit.fitting import MultipleFitSession\n",
    "from cvfit import data\n",
    "from cvfit import plots"
   ]
  },
  {
   "cell_type": "code",
   "execution_count": 5,
   "metadata": {
    "scrolled": false
   },
   "outputs": [
    {
     "name": "stdout",
     "output_type": "stream",
     "text": [
      "File Chimera3_tofit.xlsx loaded\n",
      "6 sets found.\n",
      "\n",
      "Set #1:\n",
      "\n",
      "X\tY\ts(Y)\tweight\n",
      "0.1\t189.446\t0\t1\n",
      "0.2\t480.966\t0\t1\n",
      "0.5\t540.123\t0\t1\n",
      "1\t532.233\t0\t1\n",
      "2\t637.359\t0\t1\n",
      "5\t772.081\t0\t1\n",
      "10\t611.283\t0\t1\n",
      "10\t734.65\t0\t1\n",
      "10\t625.649\t0\t1\n",
      "\n",
      "\n",
      "Set #2:\n",
      "\n",
      "X\tY\ts(Y)\tweight\n",
      "0.05\t94.5719\t0\t1\n",
      "0.1\t254.832\t0\t1\n",
      "0.2\t611.322\t0\t1\n",
      "0.5\t766.943\t0\t1\n",
      "1\t542.023\t0\t1\n",
      "2\t604.908\t0\t1\n",
      "5\t786.409\t0\t1\n",
      "10\t879.467\t0\t1\n",
      "10\t881.18\t0\t1\n",
      "10\t668.376\t0\t1\n",
      "\n",
      "\n",
      "Set #3:\n",
      "\n",
      "X\tY\ts(Y)\tweight\n",
      "0.05\t110.811\t0\t1\n",
      "0.1\t337.028\t0\t1\n",
      "0.2\t511.058\t0\t1\n",
      "0.5\t698.082\t0\t1\n",
      "1\t750.619\t0\t1\n",
      "2\t814.317\t0\t1\n",
      "5\t870.956\t0\t1\n",
      "10\t936.694\t0\t1\n",
      "10\t960.62\t0\t1\n",
      "10\t775.718\t0\t1\n",
      "\n",
      "\n",
      "Set #4:\n",
      "\n",
      "X\tY\ts(Y)\tweight\n",
      "0.05\t559.92\t0\t1\n",
      "0.1\t737.378\t0\t1\n",
      "0.2\t1353.63\t0\t1\n",
      "0.5\t1532.53\t0\t1\n",
      "1\t1827.33\t0\t1\n",
      "2\t1825.46\t0\t1\n",
      "5\t1955.43\t0\t1\n",
      "10\t2113.3\t0\t1\n",
      "10\t1800.11\t0\t1\n",
      "10\t1921.9\t0\t1\n",
      "10\t1978.67\t0\t1\n",
      "\n",
      "\n",
      "Set #5:\n",
      "\n",
      "X\tY\ts(Y)\tweight\n",
      "0.05\t236.069\t0\t1\n",
      "0.1\t798.895\t0\t1\n",
      "0.2\t1744.28\t0\t1\n",
      "0.5\t2028.85\t0\t1\n",
      "1\t2506.82\t0\t1\n",
      "2\t2356.55\t0\t1\n",
      "5\t2512.08\t0\t1\n",
      "10\t2985.96\t0\t1\n",
      "10\t2257.51\t0\t1\n",
      "10\t2529.57\t0\t1\n",
      "\n",
      "\n",
      "Set #6:\n",
      "\n",
      "X\tY\ts(Y)\tweight\n",
      "0.05\t166.683\t0\t1\n",
      "0.1\t528.987\t0\t1\n",
      "0.2\t984.164\t0\t1\n",
      "0.5\t1225.71\t0\t1\n",
      "1\t1297.1\t0\t1\n",
      "1\t1108.63\t0\t1\n",
      "2\t1409.53\t0\t1\n",
      "5\t1396.6\t0\t1\n",
      "10\t1560.17\t0\t1\n",
      "10\t1294.92\t0\t1\n",
      "10\t1169.92\t0\t1\n",
      "10\t1097.26\t0\t1\n",
      "\n"
     ]
    }
   ],
   "source": [
    "fname = \"Chimera3_tofit.xlsx\"\n",
    "sheet = 0\n",
    "sets = data.read_sets_from_Excel(fname, 2, 0, sheet)\n",
    "\n",
    "print('File {0} loaded'.format(fname))\n",
    "print('{0:d} sets found.'.format(len(sets)))\n",
    "    \n",
    "#sets = fitting.set_weights(sets)\n",
    "for i in range(len(sets)):\n",
    "    print ('\\nSet #{0:d}:'.format(i+1))\n",
    "    print (sets[i])"
   ]
  },
  {
   "cell_type": "code",
   "execution_count": 6,
   "metadata": {},
   "outputs": [],
   "source": [
    "eqname = 'Hill'\n",
    "if eqname == 'Hill' or eqname == 'Langmuir':\n",
    "        from cvfit.equations import Hill as eqfit"
   ]
  },
  {
   "cell_type": "markdown",
   "metadata": {},
   "source": [
    "# Example of multiple fit session"
   ]
  },
  {
   "cell_type": "code",
   "execution_count": 7,
   "metadata": {
    "scrolled": false
   },
   "outputs": [
    {
     "name": "stdout",
     "output_type": "stream",
     "text": [
      "\n",
      "\tFitting session for Set 1 initialised!"
     ]
    },
    {
     "name": "stderr",
     "output_type": "stream",
     "text": [
      "C:\\DCPROGS\\CVFIT\\cvfit\\equations.py:167: RuntimeWarning: invalid value encountered in power\n",
      "  return (coeff[0] + ((coeff[1] - coeff[0]) * (conc / coeff[2]) ** coeff[3]) /\n",
      "C:\\DCPROGS\\CVFIT\\cvfit\\equations.py:168: RuntimeWarning: invalid value encountered in power\n",
      "  (1 + (conc / coeff[2]) ** coeff[3]))\n"
     ]
    },
    {
     "name": "stdout",
     "output_type": "stream",
     "text": [
      "\n",
      "*************************************************\n",
      "\tSet 1 fit finished\n",
      "Number of point fitted = 9\n",
      "Number of parameters estimated = 3\n",
      "Degrees of freedom = 6\n",
      "Residual error SD = 87.537      (variance = 7662.811)\n",
      "Parameter 1: Ymin  \t= 0  \t  (fixed)\n",
      "Parameter 2: Ymax  \t= 725.475  \t  Approx SD = 92.2475\t  CV = 12.7\n",
      "Parameter 3: EC50  \t= 0.163949  \t  Approx SD = 0.080449\t  CV = 49.1\n",
      "Parameter 4: nH    \t= 0.741724  \t  Approx SD = 0.419618\t  CV = 56.6\n",
      "Minimum SSD = 45976.863; \n",
      "Max log-likelihood = -51.194\n",
      "Correlation matrix = [!!!! PRINTOUT OF CORRELATION MATRIX NOT IMPLEMENTED YET. SORRY.\n",
      "\n",
      "WARNING: SOME PARAMETERS POORLY DEFINED (CV > 33%); try different guesses\n",
      "\n",
      "LIKELIHOOD INTERVALS\n",
      "2.99-unit Likelihood Intervals  (equivalent SD for Gaussian- 2.45)\n",
      "Lmax= -51.1945;   Lcrit= -54.1884\n",
      "Parameter 1:   Ymin\t= 0\t  (fixed)\n",
      "Parameter 2:   Ymax\t= 725.475\t  LOWER = 560.146\t  UPPER limit not found\n",
      "Parameter 3:   EC50\t= 0.163949\t  LOWER limit not found\t  UPPER limit not found\n",
      "Parameter 4:   nH  \t= 0.741724\t  LOWER = 0.115889\t  UPPER limit not found\n",
      "\n",
      "\tFitting session for Set 2 initialised!\n",
      "*************************************************\n",
      "\tSet 2 fit finished\n",
      "Number of point fitted = 10\n",
      "Number of parameters estimated = 3\n",
      "Degrees of freedom = 7\n",
      "Residual error SD = 125.805      (variance = 15826.939)\n",
      "Parameter 1: Ymin  \t= 0  \t  (fixed)\n",
      "Parameter 2: Ymax  \t= 744.024  \t  Approx SD = 52.5471\t  CV = 7.1\n",
      "Parameter 3: EC50  \t= 0.122063  \t  Approx SD = 0.0313284\t  CV = 25.7\n",
      "Parameter 4: nH    \t= 2.01223  \t  Approx SD = 1.24638\t  CV = 61.9\n",
      "Minimum SSD = 110788.572; \n",
      "Max log-likelihood = -60.753\n",
      "Correlation matrix = [!!!! PRINTOUT OF CORRELATION MATRIX NOT IMPLEMENTED YET. SORRY.\n",
      "\n",
      "WARNING: SOME PARAMETERS POORLY DEFINED (CV > 33%); try different guesses\n",
      "\n",
      "LIKELIHOOD INTERVALS\n",
      "2.8-unit Likelihood Intervals  (equivalent SD for Gaussian- 2.37)\n",
      "Lmax= -60.7534;   Lcrit= -63.55\n",
      "Parameter 1:   Ymin\t= 0\t  (fixed)\n",
      "Parameter 2:   Ymax\t= 744.024\t  LOWER = 623.634\t  UPPER limit not found\n",
      "Parameter 3:   EC50\t= 0.122063\t  LOWER = 0.0627321\t  UPPER limit not found\n",
      "Parameter 4:   nH  \t= 2.01223\t  LOWER = 0.3081\t  UPPER limit not found\n",
      "\n",
      "\tFitting session for Set 3 initialised!\n",
      "*************************************************\n",
      "\tSet 3 fit finished\n",
      "Number of point fitted = 10\n",
      "Number of parameters estimated = 3\n",
      "Degrees of freedom = 7\n",
      "Residual error SD = 62.841      (variance = 3948.954)\n",
      "Parameter 1: Ymin  \t= 0  \t  (fixed)\n",
      "Parameter 2: Ymax  \t= 882.923  \t  Approx SD = 36.1223\t  CV = 4.1\n",
      "Parameter 3: EC50  \t= 0.168371  \t  Approx SD = 0.0299462\t  CV = 17.8\n",
      "Parameter 4: nH    \t= 1.20532  \t  Approx SD = 0.258865\t  CV = 21.5\n",
      "Minimum SSD = 27642.680; \n",
      "Max log-likelihood = -53.812\n",
      "Correlation matrix = [!!!! PRINTOUT OF CORRELATION MATRIX NOT IMPLEMENTED YET. SORRY.\n",
      "\n",
      "\n",
      "LIKELIHOOD INTERVALS\n",
      "2.8-unit Likelihood Intervals  (equivalent SD for Gaussian- 2.37)\n",
      "Lmax= -53.812;   Lcrit= -56.6087\n",
      "Parameter 1:   Ymin\t= 0\t  (fixed)\n",
      "Parameter 2:   Ymax\t= 882.923\t  LOWER = 808.506\t  UPPER = 989.709\n",
      "Parameter 3:   EC50\t= 0.168371\t  LOWER = 0.114701\t  UPPER = 0.27004\n",
      "Parameter 4:   nH  \t= 1.20532\t  LOWER = 0.722241\t  UPPER = 2.03934\n",
      "\n",
      "\tFitting session for Set 4 initialised!\n",
      "*************************************************\n",
      "\tSet 4 fit finished\n",
      "Number of point fitted = 11\n",
      "Number of parameters estimated = 3\n",
      "Degrees of freedom = 8\n",
      "Residual error SD = 108.471      (variance = 11765.946)\n",
      "Parameter 1: Ymin  \t= 0  \t  (fixed)\n",
      "Parameter 2: Ymax  \t= 1967.44  \t  Approx SD = 55.6382\t  CV = 2.8\n",
      "Parameter 3: EC50  \t= 0.126872  \t  Approx SD = 0.0172014\t  CV = 13.6\n",
      "Parameter 4: nH    \t= 1.09647  \t  Approx SD = 0.18946\t  CV = 17.3\n",
      "Minimum SSD = 94127.570; \n",
      "Max log-likelihood = -65.408\n",
      "Correlation matrix = [!!!! PRINTOUT OF CORRELATION MATRIX NOT IMPLEMENTED YET. SORRY.\n",
      "\n",
      "\n",
      "LIKELIHOOD INTERVALS\n",
      "2.66-unit Likelihood Intervals  (equivalent SD for Gaussian- 2.31)\n",
      "Lmax= -65.4081;   Lcrit= -68.067\n",
      "Parameter 1:   Ymin\t= 0\t  (fixed)\n",
      "Parameter 2:   Ymax\t= 1967.44\t  LOWER = 1852.17\t  UPPER = 2115.29\n",
      "Parameter 3:   EC50\t= 0.126872\t  LOWER = 0.093713\t  UPPER = 0.174905\n",
      "Parameter 4:   nH  \t= 1.09647\t  LOWER = 0.734672\t  UPPER = 1.63619\n",
      "\n",
      "\tFitting session for Set 5 initialised!\n",
      "*************************************************\n",
      "\tSet 5 fit finished\n",
      "Number of point fitted = 10\n",
      "Number of parameters estimated = 3\n",
      "Degrees of freedom = 7\n",
      "Residual error SD = 238.059      (variance = 56672.062)\n",
      "Parameter 1: Ymin  \t= 0  \t  (fixed)\n",
      "Parameter 2: Ymax  \t= 2524.43  \t  Approx SD = 110.705\t  CV = 4.4\n",
      "Parameter 3: EC50  \t= 0.149194  \t  Approx SD = 0.0263891\t  CV = 17.7\n",
      "Parameter 4: nH    \t= 1.75691  \t  Approx SD = 0.559144\t  CV = 31.8\n",
      "Minimum SSD = 396704.437; \n",
      "Max log-likelihood = -67.131\n",
      "Correlation matrix = [!!!! PRINTOUT OF CORRELATION MATRIX NOT IMPLEMENTED YET. SORRY.\n",
      "\n",
      "\n",
      "LIKELIHOOD INTERVALS\n",
      "2.8-unit Likelihood Intervals  (equivalent SD for Gaussian- 2.37)\n",
      "Lmax= -67.1312;   Lcrit= -69.9278\n",
      "Parameter 1:   Ymin\t= 0\t  (fixed)\n",
      "Parameter 2:   Ymax\t= 2524.43\t  LOWER = 2286.13\t  UPPER = 2815.9\n",
      "Parameter 3:   EC50\t= 0.149194\t  LOWER = 0.10263\t  UPPER = 0.237568\n",
      "Parameter 4:   nH  \t= 1.75691\t  LOWER = 0.896854\t  UPPER = 4.0814\n",
      "\n",
      "\tFitting session for Set 6 initialised!\n",
      "*************************************************\n",
      "\tSet 6 fit finished\n",
      "Number of point fitted = 12\n",
      "Number of parameters estimated = 3\n",
      "Degrees of freedom = 9\n",
      "Residual error SD = 169.586      (variance = 28759.406)\n",
      "Parameter 1: Ymin  \t= 0  \t  (fixed)\n",
      "Parameter 2: Ymax  \t= 1360.18  \t  Approx SD = 78.2593\t  CV = 5.8\n",
      "Parameter 3: EC50  \t= 0.125016  \t  Approx SD = 0.034899\t  CV = 27.9\n",
      "Parameter 4: nH    \t= 1.06464  \t  Approx SD = 0.332431\t  CV = 31.2\n",
      "Minimum SSD = 258834.652; \n",
      "Max log-likelihood = -76.901\n",
      "Correlation matrix = [!!!! PRINTOUT OF CORRELATION MATRIX NOT IMPLEMENTED YET. SORRY.\n",
      "\n",
      "\n",
      "LIKELIHOOD INTERVALS\n",
      "2.56-unit Likelihood Intervals  (equivalent SD for Gaussian- 2.26)\n",
      "Lmax= -76.9015;   Lcrit= -79.4598\n",
      "Parameter 1:   Ymin\t= 0\t  (fixed)\n",
      "Parameter 2:   Ymax\t= 1360.18\t  LOWER = 1133.37\t  UPPER = 1514.04\n",
      "Parameter 3:   EC50\t= 0.125016\t  LOWER = 0.0651932\t  UPPER = 0.233715\n",
      "Parameter 4:   nH  \t= 1.06464\t  LOWER = 0.679849\t  UPPER limit not found\n",
      "\n",
      "*************************************************\n",
      "\tAverage of all fits:\n",
      "Average of estimates of 6 sets (mean +/- sdm):\n",
      "Parameter 1: Ymin  \t= 0 +/- 0\n",
      "\t(all: 0.0\t0.0\t0.0\t0.0\t0.0\t0.0\n",
      "Parameter 2: Ymax  \t= 1367.41 +/- 275.59\n",
      "\t(all: 725.4749106309289\t744.0240936856511\t882.9225688690085\t1967.4386720981079\t2524.426331260671\t1360.1842079409257\n",
      "Parameter 3: EC50  \t= 0.142578 +/- 0.00771315\n",
      "\t(all: 0.16394918932906583\t0.12206329751214895\t0.16837094388694054\t0.12687170834268513\t0.149194271593193\t0.1250161256502485\n",
      "Parameter 4: nH    \t= 1.31288 +/- 0.177365\n",
      "\t(all: 0.741723915134877\t2.012231318363066\t1.2053179279688098\t1.096474843757712\t1.7569140875945175\t1.0646411518238688\n"
     ]
    }
   ],
   "source": [
    "# initiate fitting sessions, fit data and print results\n",
    "fitsessions = MultipleFitSession()\n",
    "for each in sets:\n",
    "    equation = eqfit(eqname)\n",
    "    fs = SingleFitSession(each, equation)\n",
    "    fs.fit()\n",
    "    fs.calculate_errors()\n",
    "    print('\\n*************************************************')\n",
    "    print('\\t' + fs.data.title + ' fit finished')\n",
    "    print(fs.string_estimates())\n",
    "    print(fs.string_liklimits())\n",
    "    #plots.plot_hill_fit_result_single(fname, fsession.data, fsession.eq, plotguess=True)\n",
    "    fitsessions.add(fs)\n",
    "print('\\n*************************************************')\n",
    "print('\\tAverage of all fits:')\n",
    "print(fitsessions.string_average_estimates())"
   ]
  },
  {
   "cell_type": "code",
   "execution_count": 8,
   "metadata": {},
   "outputs": [
    {
     "data": {
      "image/png": "[encoded data removed]",
      "text/plain": [
       "<Figure size 432x288 with 1 Axes>"
      ]
     },
     "metadata": {},
     "output_type": "display_data"
    }
   ],
   "source": [
    "fplots = fitsessions.prepare_fplot('fit')\n",
    "for each in sets:\n",
    "    semilogx(each.X, each.Y, 'o', label=each.title)\n",
    "for fp in fplots:\n",
    "    semilogx(fp[0], fp[1], 'b-')"
   ]
  },
  {
   "cell_type": "code",
   "execution_count": 9,
   "metadata": {},
   "outputs": [
    {
     "data": {
      "image/png": "[encoded data removed]",
      "text/plain": [
       "<Figure size 432x288 with 1 Axes>"
      ]
     },
     "metadata": {},
     "output_type": "display_data"
    }
   ],
   "source": [
    "for fs in fitsessions.list:\n",
    "    fs.eq.normalise(fs.data)\n",
    "fplots = fitsessions.prepare_fplot('norm')\n",
    "for each in sets:\n",
    "    semilogx(each.X, each.normY, 'o', label=each.title)\n",
    "for fp in fplots:\n",
    "    semilogx(fp[0], fp[1], 'b-')"
   ]
  },
  {
   "cell_type": "code",
   "execution_count": 10,
   "metadata": {},
   "outputs": [
    {
     "name": "stdout",
     "output_type": "stream",
     "text": [
      "data: WARNING : some SD equal to 0;cannot be used for weights; reverting to weightmode = 1\n",
      "\n",
      "\tFitting session for Pooled data initialised!\n",
      "***********************\n",
      "**************************\n",
      "\tNormalised and pooled data fit finished\n",
      "Number of point fitted = 62\n",
      "Number of parameters estimated = 3\n",
      "Degrees of freedom = 59\n",
      "Residual error SD = 0.103      (variance = 0.011)\n",
      "Parameter 1: Ymin  \t= 0  \t  (fixed)\n",
      "Parameter 2: Ymax  \t= 0.994483  \t  Approx SD = 0.0223169\t  CV = 2.2\n",
      "Parameter 3: EC50  \t= 0.146212  \t  Approx SD = 0.0142952\t  CV = 9.8\n",
      "Parameter 4: nH    \t= 1.29848  \t  Approx SD = 0.187044\t  CV = 14.4\n",
      "Minimum SSD = 0.629; \n",
      "Max log-likelihood = 54.357\n",
      "Correlation matrix = [!!!! PRINTOUT OF CORRELATION MATRIX NOT IMPLEMENTED YET. SORRY.\n",
      "\n",
      "\n",
      "LIKELIHOOD INTERVALS\n",
      "2-unit Likelihood Intervals  (equivalent SD for Gaussian- 2)\n",
      "Lmax= 54.3575;   Lcrit= 52.3554\n",
      "Parameter 1:   Ymin\t= 0\t  (fixed)\n",
      "Parameter 2:   Ymax\t= 0.994483\t  LOWER = 0.929765\t  UPPER = 1.02523\n",
      "Parameter 3:   EC50\t= 0.146212\t  LOWER = 0.112187\t  UPPER = 0.1687\n",
      "Parameter 4:   nH  \t= 1.29848\t  LOWER = 1.08429\t  UPPER = 2.31826\n"
     ]
    }
   ],
   "source": [
    "# pool data and fit pooled\n",
    "fitsessions.pool(norm=True)\n",
    "fitsessions.pooled.fit()\n",
    "fitsessions.pooled.calculate_errors()\n",
    "fitsessions.pooled.data.average_pooled()\n",
    "print('\\n***********************\\n**************************')\n",
    "print('\\tNormalised and pooled data fit finished')\n",
    "print(fitsessions.pooled.string_estimates())\n",
    "print(fitsessions.pooled.string_liklimits())"
   ]
  },
  {
   "cell_type": "code",
   "execution_count": 11,
   "metadata": {},
   "outputs": [
    {
     "data": {
      "image/png": "[encoded data removed]",
      "text/plain": [
       "<Figure size 432x288 with 1 Axes>"
      ]
     },
     "metadata": {},
     "output_type": "display_data"
    }
   ],
   "source": [
    "# plot pooled data fit\n",
    "fplots = fitsessions.prepare_fplot('pooled')\n",
    "fig = plots.cvfit_plot([fitsessions.pooled.data], fig=None, fplotsets=fplots, \n",
    "    fplotline='b-', logX=True, logY=False, legend=False, pooled=True)"
   ]
  },
  {
   "cell_type": "code",
   "execution_count": 12,
   "metadata": {},
   "outputs": [],
   "source": [
    "fout = open(fname[:-5] + '_points.txt', 'w')\n",
    "for i in range(len(fitsessions.pooled.data.avX)):\n",
    "    fout.write('{0:.6e}\\t{1:.6e}\\t{2:.6e}\\n'.\n",
    "        format(fitsessions.pooled.data.avX[i], \n",
    "        fitsessions.pooled.data.avY[i],\n",
    "        fitsessions.pooled.data.avS[i]))\n",
    "fout.close()\n",
    "fout = open(fname[:-5] + '_fit.txt', 'w')\n",
    "for i in range(len(fplots[0][0])):\n",
    "    fout.write('{0:.6e}\\t{1:.6e}\\n'.\n",
    "        format(fplots[0][0][i], fplots[0][1][i]))\n",
    "fout.close()"
   ]
  },
  {
   "cell_type": "code",
   "execution_count": null,
   "metadata": {},
   "outputs": [],
   "source": []
  }
 ],
 "metadata": {
  "kernelspec": {
   "display_name": "Python 3",
   "language": "python",
   "name": "python3"
  },
  "language_info": {
   "codemirror_mode": {
    "name": "ipython",
    "version": 3
   },
   "file_extension": ".py",
   "mimetype": "text/x-python",
   "name": "python",
   "nbconvert_exporter": "python",
   "pygments_lexer": "ipython3",
   "version": "3.6.5"
  }
 },
 "nbformat": 4,
 "nbformat_minor": 1
}
