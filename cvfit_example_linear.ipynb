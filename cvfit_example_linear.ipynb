{
 "cells": [
  {
   "cell_type": "code",
   "execution_count": 1,
   "metadata": {},
   "outputs": [],
   "source": [
    "%matplotlib inline\n",
    "from pylab import*"
   ]
  },
  {
   "cell_type": "code",
   "execution_count": 2,
   "metadata": {},
   "outputs": [],
   "source": [
    "import os"
   ]
  },
  {
   "cell_type": "code",
   "execution_count": 3,
   "metadata": {},
   "outputs": [],
   "source": [
    "from cvfit import data\n",
    "from cvfit.equations import Linear\n",
    "from cvfit.fitting import SingleFitSession"
   ]
  },
  {
   "cell_type": "code",
   "execution_count": 4,
   "metadata": {
    "scrolled": true
   },
   "outputs": [
    {
     "name": "stdout",
     "output_type": "stream",
     "text": [
      "Loaded: Example.xlsx\n",
      "\n",
      "X\tY\ts(Y)\tweight\n",
      "1\t3.17\t0\t1\n",
      "1\t13.25\t0\t1\n",
      "2\t19.8\t0\t1\n",
      "2\t14.18\t0\t1\n",
      "3\t11.43\t0\t1\n",
      "3\t25.85\t0\t1\n",
      "4\t13.81\t0\t1\n",
      "4\t25.49\t0\t1\n",
      "5\t26.94\t0\t1\n",
      "5\t38.86\t0\t1\n",
      "\n"
     ]
    }
   ],
   "source": [
    "filename = \"./Example/Example.xlsx\"\n",
    "set0 = data.read_sets_from_Excel(filename, 2, 0, 2)[0]\n",
    "print(\"Loaded: \" + os.path.split(str(filename))[1])\n",
    "print (str(set0))"
   ]
  },
  {
   "cell_type": "markdown",
   "metadata": {},
   "source": [
    "# Linear equation fit"
   ]
  },
  {
   "cell_type": "code",
   "execution_count": 5,
   "metadata": {},
   "outputs": [
    {
     "name": "stdout",
     "output_type": "stream",
     "text": [
      "\n",
      "\tFitting session for Set 1 initialised!"
     ]
    }
   ],
   "source": [
    "equation = Linear('Linear')\n",
    "fsession = SingleFitSession(set0, equation)"
   ]
  },
  {
   "cell_type": "code",
   "execution_count": 6,
   "metadata": {},
   "outputs": [
    {
     "name": "stdout",
     "output_type": "stream",
     "text": [
      "Number of point fitted = 10\n",
      "Number of parameters estimated = 2\n",
      "Degrees of freedom = 8\n",
      "Residual error SD = 7.034      (variance = 49.483)\n",
      "Parameter 1: a  \t= 3.666  \t  Approx SD = 5.21687\t  CV = 142.3\n",
      "Parameter 2: b  \t= 5.204  \t  Approx SD = 1.57295\t  CV = 30.2\n",
      "Minimum SSD = 395.865; \n",
      "Max log-likelihood = -32.582\n",
      "Correlation matrix = [!!!! PRINTOUT OF CORRELATION MATRIX NOT IMPLEMENTED YET. SORRY.\n",
      "\n",
      "WARNING: SOME PARAMETERS ARE STRONGLY CORRELATED (coeff > 0.9); try different guesses\n",
      "WARNING: SOME PARAMETERS POORLY DEFINED (CV > 33%); try different guesses\n",
      "\n",
      "LIKELIHOOD INTERVALS\n",
      "2-unit Likelihood Intervals  (equivalent SD for Gaussian- 2)\n",
      "Lmax= -32.5818;   Lcrit= -34.5818\n",
      "Parameter 1:   a\t= 3.666\t  LOWER limit not found\t  UPPER = 14.008\n",
      "Parameter 2:   b\t= 5.204\t  LOWER = 2.08269\t  UPPER = 8.32224\n"
     ]
    }
   ],
   "source": [
    "fsession.fit()\n",
    "fsession.calculate_errors()\n",
    "print(fsession.string_estimates())\n",
    "fsession.calculate_errors()\n",
    "print(fsession.string_liklimits())"
   ]
  },
  {
   "cell_type": "code",
   "execution_count": 7,
   "metadata": {},
   "outputs": [
    {
     "data": {
      "image/png": "[encoded data removed]",
      "text/plain": [
       "<Figure size 432x288 with 1 Axes>"
      ]
     },
     "metadata": {},
     "output_type": "display_data"
    }
   ],
   "source": [
    "X, Y = fsession.eq.calculate_plot(fsession.data.X, fsession.eq.pars)\n",
    "plot(fsession.data.X, fsession.data.Y, 'o')\n",
    "plot(X, Y, '-');"
   ]
  },
  {
   "cell_type": "markdown",
   "metadata": {},
   "source": [
    "### Using scipy curve_fit"
   ]
  },
  {
   "cell_type": "code",
   "execution_count": 11,
   "metadata": {},
   "outputs": [],
   "source": [
    "from scipy.optimize import curve_fit\n",
    "from scipy.stats.distributions import  t"
   ]
  },
  {
   "cell_type": "code",
   "execution_count": 8,
   "metadata": {},
   "outputs": [],
   "source": [
    "def linear(x, a, b):\n",
    "    '''\n",
    "    The linear equation.\n",
    "    '''\n",
    "    return a + b * x "
   ]
  },
  {
   "cell_type": "code",
   "execution_count": 9,
   "metadata": {},
   "outputs": [],
   "source": [
    "X = [1, 1, 2, 2, 3, 3, 4, 4, 5, 5]\n",
    "Y = [3.17, 13.25, 19.8, 14.18, 11.43, 25.85, 13.81, 25.49, 26.94, 38.86]"
   ]
  },
  {
   "cell_type": "code",
   "execution_count": 12,
   "metadata": {},
   "outputs": [],
   "source": [
    "theta = [2, 6]\n",
    "popt, pcov = curve_fit(linear, X, Y, p0=theta, bounds=(0, [100., 100.]))"
   ]
  },
  {
   "cell_type": "code",
   "execution_count": 13,
   "metadata": {},
   "outputs": [],
   "source": [
    "############\n",
    "n = len(X)    # number of data points\n",
    "p = 2 # number of parameters\n",
    "dof = max(0, n - p) # number of degrees of freedom\n",
    "\n",
    "# student-t value for the dof and confidence level\n",
    "alpha = 0.05 # 95% confidence interval = 100*(1-alpha)\n",
    "tval = t.ppf(1.0-alpha/2., dof) "
   ]
  },
  {
   "cell_type": "code",
   "execution_count": 14,
   "metadata": {},
   "outputs": [
    {
     "name": "stdout",
     "output_type": "stream",
     "text": [
      "p0: 3.6659999652079693 +/- 5.216871478818698 [-8.3641272368856  15.69612716730154]\n",
      "p1: 5.2040000101664505 +/- 1.5729459161660968 [1.5767802233035781  8.831219797029323]\n"
     ]
    }
   ],
   "source": [
    "for i, p, var in zip(range(p), popt, np.diag(pcov)):\n",
    "    sigma = var**0.5\n",
    "    print('p{0}: {1} +/- {2} [{3}  {4}]'.format(i, p, sigma,\n",
    "           p - sigma*tval, p + sigma*tval))"
   ]
  },
  {
   "cell_type": "code",
   "execution_count": 18,
   "metadata": {},
   "outputs": [
    {
     "data": {
      "image/png": "[encoded data removed]",
      "text/plain": [
       "<Figure size 432x288 with 1 Axes>"
      ]
     },
     "metadata": {},
     "output_type": "display_data"
    }
   ],
   "source": [
    "plt.plot(X,Y,'bo ')\n",
    "xfit = np.linspace(0,6)\n",
    "yfit = linear(xfit, popt[0], popt[1])\n",
    "plt.plot(xfit,yfit,'k-')\n",
    "plt.legend(['data','fit'],loc='best');\n",
    "#plt.savefig('images/nonlin-curve-fit-ci.png')"
   ]
  },
  {
   "cell_type": "code",
   "execution_count": null,
   "metadata": {},
   "outputs": [],
   "source": []
  }
 ],
 "metadata": {
  "kernelspec": {
   "display_name": "Python 3",
   "language": "python",
   "name": "python3"
  },
  "language_info": {
   "codemirror_mode": {
    "name": "ipython",
    "version": 3
   },
   "file_extension": ".py",
   "mimetype": "text/x-python",
   "name": "python",
   "nbconvert_exporter": "python",
   "pygments_lexer": "ipython3",
   "version": "3.6.5"
  }
 },
 "nbformat": 4,
 "nbformat_minor": 1
}
