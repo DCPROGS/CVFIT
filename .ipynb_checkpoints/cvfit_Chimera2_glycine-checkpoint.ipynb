{
 "cells": [
  {
   "cell_type": "code",
   "execution_count": 1,
   "metadata": {},
   "outputs": [],
   "source": [
    "%matplotlib inline"
   ]
  },
  {
   "cell_type": "code",
   "execution_count": 2,
   "metadata": {},
   "outputs": [],
   "source": [
    "from pylab import*\n",
    "import numpy as np"
   ]
  },
  {
   "cell_type": "code",
   "execution_count": 3,
   "metadata": {},
   "outputs": [],
   "source": [
    "#import sys\n",
    "#sys.path.append('\\CVFIT')"
   ]
  },
  {
   "cell_type": "code",
   "execution_count": 4,
   "metadata": {},
   "outputs": [],
   "source": [
    "#from cvfit import fitting\n",
    "from cvfit.fitting import SingleFitSession\n",
    "from cvfit.fitting import MultipleFitSession\n",
    "from cvfit import data\n",
    "from cvfit import plots"
   ]
  },
  {
   "cell_type": "code",
   "execution_count": 5,
   "metadata": {
    "scrolled": false
   },
   "outputs": [
    {
     "name": "stdout",
     "output_type": "stream",
     "text": [
      "File Chimera2_tofit.xlsx loaded\n",
      "5 sets found.\n",
      "\n",
      "Set #1:\n",
      "\n",
      "X\tY\ts(Y)\tweight\n",
      "0.05\t80.5292\t0\t1\n",
      "0.1\t196.356\t0\t1\n",
      "0.2\t392.3\t0\t1\n",
      "0.5\t554.575\t0\t1\n",
      "1\t636.655\t0\t1\n",
      "2\t678.653\t0\t1\n",
      "5\t663.276\t0\t1\n",
      "10\t822.958\t0\t1\n",
      "10\t749.732\t0\t1\n",
      "10\t760.57\t0\t1\n",
      "10\t682.586\t0\t1\n",
      "\n",
      "\n",
      "Set #2:\n",
      "\n",
      "X\tY\ts(Y)\tweight\n",
      "0.05\t164.894\t0\t1\n",
      "0.1\t571.998\t0\t1\n",
      "0.2\t1029.76\t0\t1\n",
      "0.5\t1546.73\t0\t1\n",
      "1\t1482.64\t0\t1\n",
      "2\t1855.57\t0\t1\n",
      "5\t1630.35\t0\t1\n",
      "10\t2262.67\t0\t1\n",
      "10\t2040.5\t0\t1\n",
      "10\t1873.88\t0\t1\n",
      "\n",
      "\n",
      "Set #3:\n",
      "\n",
      "X\tY\ts(Y)\tweight\n",
      "0.05\t147.659\t0\t1\n",
      "0.1\t706.546\t0\t1\n",
      "0.2\t905.092\t0\t1\n",
      "0.5\t1401.23\t0\t1\n",
      "1\t1377.06\t0\t1\n",
      "2\t1310.95\t0\t1\n",
      "5\t1403.92\t0\t1\n",
      "10\t1802.18\t0\t1\n",
      "10\t1616.49\t0\t1\n",
      "10\t1490.96\t0\t1\n",
      "10\t1173.59\t0\t1\n",
      "\n",
      "\n",
      "Set #4:\n",
      "\n",
      "X\tY\ts(Y)\tweight\n",
      "0.1\t373.289\t0\t1\n",
      "0.2\t631.866\t0\t1\n",
      "0.5\t749.976\t0\t1\n",
      "1\t893.586\t0\t1\n",
      "2\t947.779\t0\t1\n",
      "5\t1019.15\t0\t1\n",
      "10\t1124.52\t0\t1\n",
      "10\t963.123\t0\t1\n",
      "\n",
      "\n",
      "Set #5:\n",
      "\n",
      "X\tY\ts(Y)\tweight\n",
      "0.05\t97\t0\t1\n",
      "0.1\t269.188\t0\t1\n",
      "0.2\t661.784\t0\t1\n",
      "0.5\t763.887\t0\t1\n",
      "1\t598.949\t0\t1\n",
      "2\t899.933\t0\t1\n",
      "5\t655.408\t0\t1\n",
      "10\t1212.77\t0\t1\n",
      "10\t1000.7\t0\t1\n",
      "10\t799.666\t0\t1\n",
      "\n"
     ]
    }
   ],
   "source": [
    "fname = \"Chimera2_tofit.xlsx\"\n",
    "sheet = 0\n",
    "sets = data.read_sets_from_Excel(fname, 2, 0, sheet)\n",
    "\n",
    "print('File {0} loaded'.format(fname))\n",
    "print('{0:d} sets found.'.format(len(sets)))\n",
    "    \n",
    "#sets = fitting.set_weights(sets)\n",
    "for i in range(len(sets)):\n",
    "    print ('\\nSet #{0:d}:'.format(i+1))\n",
    "    print (sets[i])"
   ]
  },
  {
   "cell_type": "code",
   "execution_count": 6,
   "metadata": {},
   "outputs": [],
   "source": [
    "eqname = 'Hill'\n",
    "if eqname == 'Hill' or eqname == 'Langmuir':\n",
    "        from cvfit.equations import Hill as eqfit"
   ]
  },
  {
   "cell_type": "markdown",
   "metadata": {},
   "source": [
    "# Example of multiple fit session"
   ]
  },
  {
   "cell_type": "code",
   "execution_count": 7,
   "metadata": {
    "scrolled": false
   },
   "outputs": [
    {
     "name": "stdout",
     "output_type": "stream",
     "text": [
      "\n",
      "\tFitting session for Set 1 initialised!\n",
      "*************************************************\n",
      "\tSet 1 fit finished\n",
      "Number of point fitted = 11\n",
      "Number of parameters estimated = 3\n",
      "Degrees of freedom = 8\n",
      "Residual error SD = 47.279      (variance = 2235.302)\n",
      "Parameter 1: Ymin  \t= 0  \t  (fixed)\n",
      "Parameter 2: Ymax  \t= 738.716  \t  Approx SD = 24.4496\t  CV = 3.3\n",
      "Parameter 3: EC50  \t= 0.208819  \t  Approx SD = 0.0316229\t  CV = 15.1\n",
      "Parameter 4: nH    \t= 1.26545  \t  Approx SD = 0.230313\t  CV = 18.2\n",
      "Minimum SSD = 17882.417; \n",
      "Max log-likelihood = -56.274\n",
      "Correlation matrix = [!!!! PRINTOUT OF CORRELATION MATRIX NOT IMPLEMENTED YET. SORRY.\n",
      "\n",
      "\n",
      "LIKELIHOOD INTERVALS\n",
      "2.66-unit Likelihood Intervals  (equivalent SD for Gaussian- 2.31)\n",
      "Lmax= -56.2736;   Lcrit= -58.9324\n",
      "Parameter 1:   Ymin\t= 0\t  (fixed)\n",
      "Parameter 2:   Ymax\t= 738.716\t  LOWER = 688.501\t  UPPER = 804.236\n",
      "Parameter 3:   EC50\t= 0.208819\t  LOWER = 0.151421\t  UPPER = 0.303533\n",
      "Parameter 4:   nH  \t= 1.26545\t  LOWER = 0.833932\t  UPPER = 1.95007\n",
      "\n",
      "\tFitting session for Set 2 initialised!\n",
      "*************************************************\n",
      "\tSet 2 fit finished\n",
      "Number of point fitted = 10\n",
      "Number of parameters estimated = 3\n",
      "Degrees of freedom = 7\n",
      "Residual error SD = 200.031      (variance = 40012.205)\n",
      "Parameter 1: Ymin  \t= 0  \t  (fixed)\n",
      "Parameter 2: Ymax  \t= 1968.33  \t  Approx SD = 130.193\t  CV = 6.6\n",
      "Parameter 3: EC50  \t= 0.215201  \t  Approx SD = 0.0605154\t  CV = 28.1\n",
      "Parameter 4: nH    \t= 1.17061  \t  Approx SD = 0.37115\t  CV = 31.7\n",
      "Minimum SSD = 280085.437; \n",
      "Max log-likelihood = -65.391\n",
      "Correlation matrix = [!!!! PRINTOUT OF CORRELATION MATRIX NOT IMPLEMENTED YET. SORRY.\n",
      "\n",
      "\n",
      "LIKELIHOOD INTERVALS\n",
      "2.8-unit Likelihood Intervals  (equivalent SD for Gaussian- 2.37)\n",
      "Lmax= -65.3907;   Lcrit= -68.1873\n",
      "Parameter 1:   Ymin\t= 0\t  (fixed)\n",
      "Parameter 2:   Ymax\t= 1968.33\t  LOWER = 1719.36\t  UPPER = 2587.76\n",
      "Parameter 3:   EC50\t= 0.215201\t  LOWER = 0.121838\t  UPPER = 0.673629\n",
      "Parameter 4:   nH  \t= 1.17061\t  LOWER = 0.51571\t  UPPER = 2.73928\n",
      "\n",
      "\tFitting session for Set 3 initialised!\n",
      "*************************************************\n",
      "\tSet 3 fit finished\n",
      "Number of point fitted = 11\n",
      "Number of parameters estimated = 3\n",
      "Degrees of freedom = 8\n",
      "Residual error SD = 190.413      (variance = 36256.925)\n",
      "Parameter 1: Ymin  \t= 0  \t  (fixed)\n",
      "Parameter 2: Ymax  \t= 1479.68  \t  Approx SD = 81.2206\t  CV = 5.5\n",
      "Parameter 3: EC50  \t= 0.133481  \t  Approx SD = 0.0337463\t  CV = 25.3\n",
      "Parameter 4: nH    \t= 1.46511  \t  Approx SD = 0.534703\t  CV = 36.5\n",
      "Minimum SSD = 290055.400; \n",
      "Max log-likelihood = -71.598\n",
      "Correlation matrix = [!!!! PRINTOUT OF CORRELATION MATRIX NOT IMPLEMENTED YET. SORRY.\n",
      "\n",
      "WARNING: SOME PARAMETERS POORLY DEFINED (CV > 33%); try different guesses\n",
      "\n",
      "LIKELIHOOD INTERVALS\n",
      "2.66-unit Likelihood Intervals  (equivalent SD for Gaussian- 2.31)\n",
      "Lmax= -71.5979;   Lcrit= -74.2568\n",
      "Parameter 1:   Ymin\t= 0\t  (fixed)\n",
      "Parameter 2:   Ymax\t= 1479.68\t  LOWER = 1302.62\t  UPPER = 1713.79\n",
      "Parameter 3:   EC50\t= 0.133481\t  LOWER = 0.0754206\t  UPPER = 0.247474\n",
      "Parameter 4:   nH  \t= 1.46511\t  LOWER = 0.631852\t  UPPER = 4.47542\n",
      "\n",
      "\tFitting session for Set 4 initialised!\n",
      "*************************************************\n",
      "\tSet 4 fit finished\n",
      "Number of point fitted = 8\n",
      "Number of parameters estimated = 3\n",
      "Degrees of freedom = 5\n",
      "Residual error SD = 61.134      (variance = 3737.335)\n",
      "Parameter 1: Ymin  \t= 0  \t  (fixed)\n",
      "Parameter 2: Ymax  \t= 1061.76  \t  Approx SD = 54.8617\t  CV = 5.2\n",
      "Parameter 3: EC50  \t= 0.165052  \t  Approx SD = 0.0329177\t  CV = 19.9\n",
      "Parameter 4: nH    \t= 0.897359  \t  Approx SD = 0.215464\t  CV = 24.0\n",
      "Minimum SSD = 18686.673; \n",
      "Max log-likelihood = -42.376\n",
      "Correlation matrix = [!!!! PRINTOUT OF CORRELATION MATRIX NOT IMPLEMENTED YET. SORRY.\n",
      "\n",
      "\n",
      "LIKELIHOOD INTERVALS\n",
      "3.31-unit Likelihood Intervals  (equivalent SD for Gaussian- 2.57)\n",
      "Lmax= -42.376;   Lcrit= -45.681\n",
      "Parameter 1:   Ymin\t= 0\t  (fixed)\n",
      "Parameter 2:   Ymax\t= 1061.76\t  LOWER = 950.466\t  UPPER = 1392.35\n",
      "Parameter 3:   EC50\t= 0.165052\t  LOWER = 0.0976113\t  UPPER = 0.442749\n",
      "Parameter 4:   nH  \t= 0.897359\t  LOWER = 0.40399\t  UPPER = 1.70882\n",
      "\n",
      "\tFitting session for Set 5 initialised!"
     ]
    },
    {
     "name": "stderr",
     "output_type": "stream",
     "text": [
      "C:\\DCPROGS\\CVFIT\\cvfit\\equations.py:167: RuntimeWarning: invalid value encountered in power\n",
      "  return (coeff[0] + ((coeff[1] - coeff[0]) * (conc / coeff[2]) ** coeff[3]) /\n",
      "C:\\DCPROGS\\CVFIT\\cvfit\\equations.py:168: RuntimeWarning: invalid value encountered in power\n",
      "  (1 + (conc / coeff[2]) ** coeff[3]))\n"
     ]
    },
    {
     "name": "stdout",
     "output_type": "stream",
     "text": [
      "\n",
      "*************************************************\n",
      "\tSet 5 fit finished\n",
      "Number of point fitted = 10\n",
      "Number of parameters estimated = 3\n",
      "Degrees of freedom = 7\n",
      "Residual error SD = 193.165      (variance = 37312.858)\n",
      "Parameter 1: Ymin  \t= 0  \t  (fixed)\n",
      "Parameter 2: Ymax  \t= 960.718  \t  Approx SD = 230.154\t  CV = 24.0\n",
      "Parameter 3: EC50  \t= 0.210207  \t  Approx SD = 0.217681\t  CV = 103.6\n",
      "Parameter 4: nH    \t= 0.869484  \t  Approx SD = 0.787747\t  CV = 90.6\n",
      "Minimum SSD = 261190.003; \n",
      "Max log-likelihood = -65.041\n",
      "Correlation matrix = [!!!! PRINTOUT OF CORRELATION MATRIX NOT IMPLEMENTED YET. SORRY.\n",
      "\n",
      "WARNING: SOME PARAMETERS POORLY DEFINED (CV > 33%); try different guesses\n",
      "\n",
      "LIKELIHOOD INTERVALS\n",
      "2.8-unit Likelihood Intervals  (equivalent SD for Gaussian- 2.37)\n",
      "Lmax= -65.0415;   Lcrit= -67.8381\n",
      "Parameter 1:   Ymin\t= 0\t  (fixed)\n",
      "Parameter 2:   Ymax\t= 960.718\t  LOWER = 685.372\t  UPPER limit not found\n",
      "Parameter 3:   EC50\t= 0.210207\t  LOWER limit not found\t  UPPER limit not found\n",
      "Parameter 4:   nH  \t= 0.869484\t  LOWER = 0.10979\t  UPPER limit not found\n",
      "\n",
      "*************************************************\n",
      "\tAverage of all fits:\n",
      "Average of estimates of 5 sets (mean +/- sdm):\n",
      "Parameter 1: Ymin  \t= 0 +/- 0\n",
      "\t(all: 0.0\t0.0\t0.0\t0.0\t0.0\n",
      "Parameter 2: Ymax  \t= 1241.84 +/- 194.828\n",
      "\t(all: 738.715659005842\t1968.3344454946823\t1479.6765307307255\t1061.7626887734205\t960.7182737200407\n",
      "Parameter 3: EC50  \t= 0.186552 +/- 0.0143596\n",
      "\t(all: 0.20881885720019586\t0.2152010388707697\t0.13348085757434\t0.16505199676498156\t0.2102067196086906\n",
      "Parameter 4: nH    \t= 1.1336 +/- 0.10084\n",
      "\t(all: 1.2654515083988938\t1.170608872982809\t1.4651066329515376\t0.8973588025074605\t0.8694844079750131\n"
     ]
    }
   ],
   "source": [
    "# initiate fitting sessions, fit data and print results\n",
    "fitsessions = MultipleFitSession()\n",
    "for each in sets:\n",
    "    equation = eqfit(eqname)\n",
    "    fs = SingleFitSession(each, equation)\n",
    "    fs.fit()\n",
    "    fs.calculate_errors()\n",
    "    print('\\n*************************************************')\n",
    "    print('\\t' + fs.data.title + ' fit finished')\n",
    "    print(fs.string_estimates())\n",
    "    print(fs.string_liklimits())\n",
    "    #plots.plot_hill_fit_result_single(fname, fsession.data, fsession.eq, plotguess=True)\n",
    "    fitsessions.add(fs)\n",
    "print('\\n*************************************************')\n",
    "print('\\tAverage of all fits:')\n",
    "print(fitsessions.string_average_estimates())"
   ]
  },
  {
   "cell_type": "code",
   "execution_count": 8,
   "metadata": {},
   "outputs": [
    {
     "data": {
      "image/png": "[encoded data removed]",
      "text/plain": [
       "<Figure size 432x288 with 1 Axes>"
      ]
     },
     "metadata": {},
     "output_type": "display_data"
    }
   ],
   "source": [
    "fplots = fitsessions.prepare_fplot('fit')\n",
    "for each in sets:\n",
    "    semilogx(each.X, each.Y, 'o', label=each.title)\n",
    "for fp in fplots:\n",
    "    semilogx(fp[0], fp[1], 'b-')"
   ]
  },
  {
   "cell_type": "code",
   "execution_count": 9,
   "metadata": {},
   "outputs": [
    {
     "data": {
      "image/png": "[encoded data removed]",
      "text/plain": [
       "<Figure size 432x288 with 1 Axes>"
      ]
     },
     "metadata": {},
     "output_type": "display_data"
    }
   ],
   "source": [
    "for fs in fitsessions.list:\n",
    "    fs.eq.normalise(fs.data)\n",
    "fplots = fitsessions.prepare_fplot('norm')\n",
    "for each in sets:\n",
    "    semilogx(each.X, each.normY, 'o', label=each.title)\n",
    "for fp in fplots:\n",
    "    semilogx(fp[0], fp[1], 'b-')"
   ]
  },
  {
   "cell_type": "code",
   "execution_count": 10,
   "metadata": {},
   "outputs": [
    {
     "name": "stdout",
     "output_type": "stream",
     "text": [
      "data: WARNING : some SD equal to 0;cannot be used for weights; reverting to weightmode = 1\n",
      "\n",
      "\tFitting session for Pooled data initialised!\n",
      "***********************\n",
      "**************************\n",
      "\tNormalised and pooled data fit finished\n",
      "Number of point fitted = 50\n",
      "Number of parameters estimated = 3\n",
      "Degrees of freedom = 47\n",
      "Residual error SD = 0.114      (variance = 0.013)\n",
      "Parameter 1: Ymin  \t= 0  \t  (fixed)\n",
      "Parameter 2: Ymax  \t= 0.983145  \t  Approx SD = 0.0298633\t  CV = 3.0\n",
      "Parameter 3: EC50  \t= 0.172678  \t  Approx SD = 0.0224336\t  CV = 13.0\n",
      "Parameter 4: nH    \t= 1.24258  \t  Approx SD = 0.219657\t  CV = 17.7\n",
      "Minimum SSD = 0.607; \n",
      "Max log-likelihood = 39.351\n",
      "Correlation matrix = [!!!! PRINTOUT OF CORRELATION MATRIX NOT IMPLEMENTED YET. SORRY.\n",
      "\n",
      "\n",
      "LIKELIHOOD INTERVALS\n",
      "2.03-unit Likelihood Intervals  (equivalent SD for Gaussian- 2.01)\n",
      "Lmax= 39.3515;   Lcrit= 37.3241\n",
      "Parameter 1:   Ymin\t= 0\t  (fixed)\n",
      "Parameter 2:   Ymax\t= 0.983145\t  LOWER = 0.928648\t  UPPER = 1.05303\n",
      "Parameter 3:   EC50\t= 0.172678\t  LOWER = 0.135622\t  UPPER = 0.230468\n",
      "Parameter 4:   nH  \t= 1.24258\t  LOWER = 0.871103\t  UPPER = 1.79331\n"
     ]
    }
   ],
   "source": [
    "# pool data and fit pooled\n",
    "fitsessions.pool(norm=True)\n",
    "fitsessions.pooled.fit()\n",
    "fitsessions.pooled.calculate_errors()\n",
    "fitsessions.pooled.data.average_pooled()\n",
    "print('\\n***********************\\n**************************')\n",
    "print('\\tNormalised and pooled data fit finished')\n",
    "print(fitsessions.pooled.string_estimates())\n",
    "print(fitsessions.pooled.string_liklimits())"
   ]
  },
  {
   "cell_type": "code",
   "execution_count": 11,
   "metadata": {},
   "outputs": [
    {
     "data": {
      "image/png": "[encoded data removed]",
      "text/plain": [
       "<Figure size 432x288 with 1 Axes>"
      ]
     },
     "metadata": {},
     "output_type": "display_data"
    }
   ],
   "source": [
    "# plot pooled data fit\n",
    "fplots = fitsessions.prepare_fplot('pooled')\n",
    "fig = plots.cvfit_plot([fitsessions.pooled.data], fig=None, fplotsets=fplots, \n",
    "    fplotline='b-', logX=True, logY=False, legend=False, pooled=True)"
   ]
  },
  {
   "cell_type": "code",
   "execution_count": 12,
   "metadata": {},
   "outputs": [],
   "source": [
    "fout = open(fname[:-5] + '_points.txt', 'w')\n",
    "for i in range(len(fitsessions.pooled.data.avX)):\n",
    "    fout.write('{0:.6e}\\t{1:.6e}\\t{2:.6e}\\n'.\n",
    "        format(fitsessions.pooled.data.avX[i], \n",
    "        fitsessions.pooled.data.avY[i],\n",
    "        fitsessions.pooled.data.avS[i]))\n",
    "fout.close()\n",
    "fout = open(fname[:-5] + '_fit.txt', 'w')\n",
    "for i in range(len(fplots[0][0])):\n",
    "    fout.write('{0:.6e}\\t{1:.6e}\\n'.\n",
    "        format(fplots[0][0][i], fplots[0][1][i]))\n",
    "fout.close()"
   ]
  },
  {
   "cell_type": "code",
   "execution_count": null,
   "metadata": {},
   "outputs": [],
   "source": []
  }
 ],
 "metadata": {
  "kernelspec": {
   "display_name": "Python 3",
   "language": "python",
   "name": "python3"
  },
  "language_info": {
   "codemirror_mode": {
    "name": "ipython",
    "version": 3
   },
   "file_extension": ".py",
   "mimetype": "text/x-python",
   "name": "python",
   "nbconvert_exporter": "python",
   "pygments_lexer": "ipython3",
   "version": "3.6.5"
  }
 },
 "nbformat": 4,
 "nbformat_minor": 1
}
