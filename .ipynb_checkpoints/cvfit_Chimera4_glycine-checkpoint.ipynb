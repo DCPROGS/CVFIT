{
 "cells": [
  {
   "cell_type": "code",
   "execution_count": 1,
   "metadata": {},
   "outputs": [],
   "source": [
    "%matplotlib inline"
   ]
  },
  {
   "cell_type": "code",
   "execution_count": 2,
   "metadata": {},
   "outputs": [],
   "source": [
    "from pylab import*\n",
    "import numpy as np"
   ]
  },
  {
   "cell_type": "code",
   "execution_count": 3,
   "metadata": {},
   "outputs": [],
   "source": [
    "#import sys\n",
    "#sys.path.append('\\CVFIT')"
   ]
  },
  {
   "cell_type": "code",
   "execution_count": 4,
   "metadata": {},
   "outputs": [],
   "source": [
    "#from cvfit import fitting\n",
    "from cvfit.fitting import SingleFitSession\n",
    "from cvfit.fitting import MultipleFitSession\n",
    "from cvfit import data\n",
    "from cvfit import plots"
   ]
  },
  {
   "cell_type": "code",
   "execution_count": 5,
   "metadata": {
    "scrolled": false
   },
   "outputs": [
    {
     "name": "stdout",
     "output_type": "stream",
     "text": [
      "File Chimera4_tofit.xlsx loaded\n",
      "4 sets found.\n",
      "\n",
      "Set #1:\n",
      "\n",
      "X\tY\ts(Y)\tweight\n",
      "0.02\t118.351\t0\t1\n",
      "0.05\t890.994\t0\t1\n",
      "0.1\t2510.78\t0\t1\n",
      "0.2\t3095.68\t0\t1\n",
      "0.2\t2772.12\t0\t1\n",
      "0.5\t3484.96\t0\t1\n",
      "0.5\t3438.25\t0\t1\n",
      "0.5\t3113.9\t0\t1\n",
      "1\t3437.85\t0\t1\n",
      "2\t3457.35\t0\t1\n",
      "5\t3530.14\t0\t1\n",
      "5\t3282.31\t0\t1\n",
      "10\t3399.36\t0\t1\n",
      "10\t3409.8\t0\t1\n",
      "10\t3535.51\t0\t1\n",
      "10\t3361.34\t0\t1\n",
      "\n",
      "\n",
      "Set #2:\n",
      "\n",
      "X\tY\ts(Y)\tweight\n",
      "0.02\t302.201\t0\t1\n",
      "0.05\t1512.84\t0\t1\n",
      "0.1\t3333.47\t0\t1\n",
      "0.2\t4191.42\t0\t1\n",
      "0.5\t5045.35\t0\t1\n",
      "1\t3844.88\t0\t1\n",
      "2\t4774.56\t0\t1\n",
      "5\t4563.49\t0\t1\n",
      "10\t5376.51\t0\t1\n",
      "10\t5081.76\t0\t1\n",
      "10\t3382.57\t0\t1\n",
      "\n",
      "\n",
      "Set #3:\n",
      "\n",
      "X\tY\ts(Y)\tweight\n",
      "0.02\t108.542\t0\t1\n",
      "0.05\t208.954\t0\t1\n",
      "0.1\t1832.79\t0\t1\n",
      "0.2\t2959.32\t0\t1\n",
      "0.5\t2516.08\t0\t1\n",
      "1\t2764.1\t0\t1\n",
      "2\t3629.56\t0\t1\n",
      "5\t2336.38\t0\t1\n",
      "10\t4164.85\t0\t1\n",
      "10\t3711.85\t0\t1\n",
      "10\t2731.67\t0\t1\n",
      "10\t2654.25\t0\t1\n",
      "\n",
      "\n",
      "Set #4:\n",
      "\n",
      "X\tY\ts(Y)\tweight\n",
      "0.02\t99.9507\t0\t1\n",
      "0.05\t775.642\t0\t1\n",
      "0.1\t3164.76\t0\t1\n",
      "0.2\t3852.6\t0\t1\n",
      "0.5\t3661.87\t0\t1\n",
      "1\t4503.69\t0\t1\n",
      "2\t3558.85\t0\t1\n",
      "5\t3861.64\t0\t1\n",
      "10\t4435.38\t0\t1\n",
      "10\t4320.84\t0\t1\n",
      "10\t3268.26\t0\t1\n",
      "\n"
     ]
    }
   ],
   "source": [
    "fname = \"Chimera4_tofit.xlsx\"\n",
    "sheet = 0\n",
    "sets = data.read_sets_from_Excel(fname, 2, 0, sheet)\n",
    "\n",
    "print('File {0} loaded'.format(fname))\n",
    "print('{0:d} sets found.'.format(len(sets)))\n",
    "    \n",
    "#sets = fitting.set_weights(sets)\n",
    "for i in range(len(sets)):\n",
    "    print ('\\nSet #{0:d}:'.format(i+1))\n",
    "    print (sets[i])"
   ]
  },
  {
   "cell_type": "code",
   "execution_count": 6,
   "metadata": {},
   "outputs": [],
   "source": [
    "eqname = 'Hill'\n",
    "if eqname == 'Hill' or eqname == 'Langmuir':\n",
    "        from cvfit.equations import Hill as eqfit"
   ]
  },
  {
   "cell_type": "markdown",
   "metadata": {},
   "source": [
    "# Example of multiple fit session"
   ]
  },
  {
   "cell_type": "code",
   "execution_count": 7,
   "metadata": {
    "scrolled": false
   },
   "outputs": [
    {
     "name": "stdout",
     "output_type": "stream",
     "text": [
      "\n",
      "\tFitting session for Set 1 initialised!\n",
      "*************************************************\n",
      "\tSet 1 fit finished\n",
      "Number of point fitted = 16\n",
      "Number of parameters estimated = 3\n",
      "Degrees of freedom = 13\n",
      "Residual error SD = 178.932      (variance = 32016.503)\n",
      "Parameter 1: Ymin  \t= 0  \t  (fixed)\n",
      "Parameter 2: Ymax  \t= 3440.06  \t  Approx SD = 58.7157\t  CV = 1.7\n",
      "Parameter 3: EC50  \t= 0.0726803  \t  Approx SD = 0.00580097\t  CV = 8.0\n",
      "Parameter 4: nH    \t= 1.7497  \t  Approx SD = 0.203995\t  CV = 11.7\n",
      "Minimum SSD = 416214.534; \n",
      "Max log-likelihood = -104.034\n",
      "Correlation matrix = [!!!! PRINTOUT OF CORRELATION MATRIX NOT IMPLEMENTED YET. SORRY.\n",
      "\n",
      "\n",
      "LIKELIHOOD INTERVALS\n",
      "2.33-unit Likelihood Intervals  (equivalent SD for Gaussian- 2.16)\n",
      "Lmax= -104.034;   Lcrit= -106.367\n",
      "Parameter 1:   Ymin\t= 0\t  (fixed)\n",
      "Parameter 2:   Ymax\t= 3440.06\t  LOWER = 3242.88\t  UPPER = 3568.86\n",
      "Parameter 3:   EC50\t= 0.0726803\t  LOWER = 0.0595139\t  UPPER = 0.0901172\n",
      "Parameter 4:   nH  \t= 1.7497\t  LOWER = 1.53971\t  UPPER = 3.8926\n",
      "\n",
      "\tFitting session for Set 2 initialised!"
     ]
    },
    {
     "name": "stderr",
     "output_type": "stream",
     "text": [
      "C:\\DCPROGS\\CVFIT\\cvfit\\equations.py:167: RuntimeWarning: invalid value encountered in power\n",
      "  return (coeff[0] + ((coeff[1] - coeff[0]) * (conc / coeff[2]) ** coeff[3]) /\n",
      "C:\\DCPROGS\\CVFIT\\cvfit\\equations.py:168: RuntimeWarning: invalid value encountered in power\n",
      "  (1 + (conc / coeff[2]) ** coeff[3]))\n"
     ]
    },
    {
     "name": "stdout",
     "output_type": "stream",
     "text": [
      "\n",
      "*************************************************\n",
      "\tSet 2 fit finished\n",
      "Number of point fitted = 11\n",
      "Number of parameters estimated = 3\n",
      "Degrees of freedom = 8\n",
      "Residual error SD = 773.697      (variance = 598606.302)\n",
      "Parameter 1: Ymin  \t= 0  \t  (fixed)\n",
      "Parameter 2: Ymax  \t= 4786.79  \t  Approx SD = 342.74\t  CV = 7.2\n",
      "Parameter 3: EC50  \t= 0.0649141  \t  Approx SD = 0.0227063\t  CV = 35.0\n",
      "Parameter 4: nH    \t= 1.06088  \t  Approx SD = 0.424244\t  CV = 40.0\n",
      "Minimum SSD = 4788850.418; \n",
      "Max log-likelihood = -87.020\n",
      "Correlation matrix = [!!!! PRINTOUT OF CORRELATION MATRIX NOT IMPLEMENTED YET. SORRY.\n",
      "\n",
      "WARNING: SOME PARAMETERS POORLY DEFINED (CV > 33%); try different guesses\n",
      "\n",
      "LIKELIHOOD INTERVALS\n",
      "2.66-unit Likelihood Intervals  (equivalent SD for Gaussian- 2.31)\n",
      "Lmax= -87.0198;   Lcrit= -89.6786\n",
      "Parameter 1:   Ymin\t= 0\t  (fixed)\n",
      "Parameter 2:   Ymax\t= 4786.79\t  LOWER = 3788.03\t  UPPER = 5496.87\n",
      "Parameter 3:   EC50\t= 0.0649141\t  LOWER = 0.0279956\t  UPPER = 0.144683\n",
      "Parameter 4:   nH  \t= 1.06088\t  LOWER = 0.56217\t  UPPER limit not found\n",
      "\n",
      "\tFitting session for Set 3 initialised!\n",
      "*************************************************\n",
      "\tSet 3 fit finished\n",
      "Number of point fitted = 12\n",
      "Number of parameters estimated = 3\n",
      "Degrees of freedom = 9\n",
      "Residual error SD = 616.718      (variance = 380340.603)\n",
      "Parameter 1: Ymin  \t= 0  \t  (fixed)\n",
      "Parameter 2: Ymax  \t= 3130.26  \t  Approx SD = 228.916\t  CV = 7.3\n",
      "Parameter 3: EC50  \t= 0.0956602  \t  Approx SD = 0.0271153\t  CV = 28.3\n",
      "Parameter 4: nH    \t= 2.12243  \t  Approx SD = 1.3629\t  CV = 64.2\n",
      "Minimum SSD = 3423065.426; \n",
      "Max log-likelihood = -92.394\n",
      "Correlation matrix = [!!!! PRINTOUT OF CORRELATION MATRIX NOT IMPLEMENTED YET. SORRY.\n",
      "\n",
      "WARNING: SOME PARAMETERS POORLY DEFINED (CV > 33%); try different guesses\n",
      "\n",
      "LIKELIHOOD INTERVALS\n",
      "2.56-unit Likelihood Intervals  (equivalent SD for Gaussian- 2.26)\n",
      "Lmax= -92.3941;   Lcrit= -94.9524\n",
      "Parameter 1:   Ymin\t= 0\t  (fixed)\n",
      "Parameter 2:   Ymax\t= 3130.26\t  LOWER = 2574.02\t  UPPER = 3666.27\n",
      "Parameter 3:   EC50\t= 0.0956602\t  LOWER = 0.0496591\t  UPPER = 0.207069\n",
      "Parameter 4:   nH  \t= 2.12243\t  LOWER = 0.66529\t  UPPER limit not found\n",
      "\n",
      "\tFitting session for Set 4 initialised!\n",
      "*************************************************\n",
      "\tSet 4 fit finished\n",
      "Number of point fitted = 11\n",
      "Number of parameters estimated = 3\n",
      "Degrees of freedom = 8\n",
      "Residual error SD = 714.238      (variance = 510135.393)\n",
      "Parameter 1: Ymin  \t= 0  \t  (fixed)\n",
      "Parameter 2: Ymax  \t= 4166.72  \t  Approx SD = 309.277\t  CV = 7.4\n",
      "Parameter 3: EC50  \t= 0.0659331  \t  Approx SD = 0.0231896\t  CV = 35.2\n",
      "Parameter 4: nH    \t= 1.04822  \t  Approx SD = 0.430925\t  CV = 41.1\n",
      "Minimum SSD = 4081083.144; \n",
      "Max log-likelihood = -86.140\n",
      "Correlation matrix = [!!!! PRINTOUT OF CORRELATION MATRIX NOT IMPLEMENTED YET. SORRY.\n",
      "\n",
      "WARNING: SOME PARAMETERS POORLY DEFINED (CV > 33%); try different guesses\n",
      "\n",
      "LIKELIHOOD INTERVALS\n",
      "2.66-unit Likelihood Intervals  (equivalent SD for Gaussian- 2.31)\n",
      "Lmax= -86.1402;   Lcrit= -88.799\n",
      "Parameter 1:   Ymin\t= 0\t  (fixed)\n",
      "Parameter 2:   Ymax\t= 4166.72\t  LOWER = 3126.18\t  UPPER = 4814.44\n",
      "Parameter 3:   EC50\t= 0.0659331\t  LOWER = 0.0290645\t  UPPER = 0.162543\n",
      "Parameter 4:   nH  \t= 1.04822\t  LOWER = 0.586301\t  UPPER limit not found\n",
      "\n",
      "*************************************************\n",
      "\tAverage of all fits:\n",
      "Average of estimates of 4 sets (mean +/- sdm):\n",
      "Parameter 1: Ymin  \t= 0 +/- 0\n",
      "\t(all: 0.0\t0.0\t0.0\t0.0\n",
      "Parameter 2: Ymax  \t= 3880.95 +/- 322.115\n",
      "\t(all: 3440.0552435032914\t4786.785007629682\t3130.25509133731\t4166.7202811881625\n",
      "Parameter 3: EC50  \t= 0.0747969 +/- 0.00620482\n",
      "\t(all: 0.07268029233903743\t0.06491406086099694\t0.0956602380984511\t0.06593307239719108\n",
      "Parameter 4: nH    \t= 1.49531 +/- 0.230029\n",
      "\t(all: 1.7496956999636917\t1.0608778072762703\t2.122430700606885\t1.0482222050716117\n"
     ]
    }
   ],
   "source": [
    "# initiate fitting sessions, fit data and print results\n",
    "fitsessions = MultipleFitSession()\n",
    "for each in sets:\n",
    "    equation = eqfit(eqname)\n",
    "    fs = SingleFitSession(each, equation)\n",
    "    fs.fit()\n",
    "    fs.calculate_errors()\n",
    "    print('\\n*************************************************')\n",
    "    print('\\t' + fs.data.title + ' fit finished')\n",
    "    print(fs.string_estimates())\n",
    "    print(fs.string_liklimits())\n",
    "    #plots.plot_hill_fit_result_single(fname, fsession.data, fsession.eq, plotguess=True)\n",
    "    fitsessions.add(fs)\n",
    "print('\\n*************************************************')\n",
    "print('\\tAverage of all fits:')\n",
    "print(fitsessions.string_average_estimates())"
   ]
  },
  {
   "cell_type": "code",
   "execution_count": 8,
   "metadata": {},
   "outputs": [
    {
     "data": {
      "image/png": "[encoded data removed]",
      "text/plain": [
       "<Figure size 432x288 with 1 Axes>"
      ]
     },
     "metadata": {},
     "output_type": "display_data"
    }
   ],
   "source": [
    "fplots = fitsessions.prepare_fplot('fit')\n",
    "for each in sets:\n",
    "    semilogx(each.X, each.Y, 'o', label=each.title)\n",
    "for fp in fplots:\n",
    "    semilogx(fp[0], fp[1], 'b-')"
   ]
  },
  {
   "cell_type": "code",
   "execution_count": 9,
   "metadata": {},
   "outputs": [
    {
     "data": {
      "image/png": "[encoded data removed]",
      "text/plain": [
       "<Figure size 432x288 with 1 Axes>"
      ]
     },
     "metadata": {},
     "output_type": "display_data"
    }
   ],
   "source": [
    "for fs in fitsessions.list:\n",
    "    fs.eq.normalise(fs.data)\n",
    "fplots = fitsessions.prepare_fplot('norm')\n",
    "for each in sets:\n",
    "    semilogx(each.X, each.normY, 'o', label=each.title)\n",
    "for fp in fplots:\n",
    "    semilogx(fp[0], fp[1], 'b-')"
   ]
  },
  {
   "cell_type": "code",
   "execution_count": 10,
   "metadata": {},
   "outputs": [
    {
     "name": "stdout",
     "output_type": "stream",
     "text": [
      "data: WARNING : some SD equal to 0;cannot be used for weights; reverting to weightmode = 1\n",
      "\n",
      "\tFitting session for Pooled data initialised!"
     ]
    },
    {
     "name": "stderr",
     "output_type": "stream",
     "text": [
      "C:\\DCPROGS\\CVFIT\\cvfit\\equations.py:167: RuntimeWarning: invalid value encountered in power\n",
      "  return (coeff[0] + ((coeff[1] - coeff[0]) * (conc / coeff[2]) ** coeff[3]) /\n",
      "C:\\DCPROGS\\CVFIT\\cvfit\\equations.py:168: RuntimeWarning: invalid value encountered in power\n",
      "  (1 + (conc / coeff[2]) ** coeff[3]))\n"
     ]
    },
    {
     "name": "stdout",
     "output_type": "stream",
     "text": [
      "\n",
      "***********************\n",
      "**************************\n",
      "\tNormalised and pooled data fit finished\n",
      "Number of point fitted = 50\n",
      "Number of parameters estimated = 3\n",
      "Degrees of freedom = 47\n",
      "Residual error SD = 0.157      (variance = 0.025)\n",
      "Parameter 1: Ymin  \t= 0  \t  (fixed)\n",
      "Parameter 2: Ymax  \t= 1.05593  \t  Approx SD = 0.0405656\t  CV = 3.8\n",
      "Parameter 3: EC50  \t= 0.0868828  \t  Approx SD = 0.0159353\t  CV = 18.3\n",
      "Parameter 4: nH    \t= 0.943217  \t  Approx SD = 0.188362\t  CV = 20.0\n",
      "Minimum SSD = 1.159; \n",
      "Max log-likelihood = 23.169\n",
      "Correlation matrix = [!!!! PRINTOUT OF CORRELATION MATRIX NOT IMPLEMENTED YET. SORRY.\n",
      "\n",
      "\n",
      "LIKELIHOOD INTERVALS\n",
      "2.03-unit Likelihood Intervals  (equivalent SD for Gaussian- 2.01)\n",
      "Lmax= 23.1692;   Lcrit= 21.1418\n",
      "Parameter 1:   Ymin\t= 0\t  (fixed)\n",
      "Parameter 2:   Ymax\t= 1.05593\t  LOWER limit not found\t  UPPER = 1.11785\n",
      "Parameter 3:   EC50\t= 0.0868828\t  LOWER = 0.0413986\t  UPPER = 0.134122\n",
      "Parameter 4:   nH  \t= 0.943217\t  LOWER = 0.838763\t  UPPER limit not found\n"
     ]
    }
   ],
   "source": [
    "# pool data and fit pooled\n",
    "fitsessions.pool(norm=True)\n",
    "fitsessions.pooled.fit()\n",
    "fitsessions.pooled.calculate_errors()\n",
    "fitsessions.pooled.data.average_pooled()\n",
    "print('\\n***********************\\n**************************')\n",
    "print('\\tNormalised and pooled data fit finished')\n",
    "print(fitsessions.pooled.string_estimates())\n",
    "print(fitsessions.pooled.string_liklimits())"
   ]
  },
  {
   "cell_type": "code",
   "execution_count": 11,
   "metadata": {},
   "outputs": [
    {
     "data": {
      "image/png": "[encoded data removed]",
      "text/plain": [
       "<Figure size 432x288 with 1 Axes>"
      ]
     },
     "metadata": {},
     "output_type": "display_data"
    }
   ],
   "source": [
    "# plot pooled data fit\n",
    "fplots = fitsessions.prepare_fplot('pooled')\n",
    "fig = plots.cvfit_plot([fitsessions.pooled.data], fig=None, fplotsets=fplots, \n",
    "    fplotline='b-', logX=True, logY=False, legend=False, pooled=True)"
   ]
  },
  {
   "cell_type": "code",
   "execution_count": 12,
   "metadata": {},
   "outputs": [],
   "source": [
    "fout = open(fname[:-5] + '_points.txt', 'w')\n",
    "for i in range(len(fitsessions.pooled.data.avX)):\n",
    "    fout.write('{0:.6e}\\t{1:.6e}\\t{2:.6e}\\n'.\n",
    "        format(fitsessions.pooled.data.avX[i], \n",
    "        fitsessions.pooled.data.avY[i],\n",
    "        fitsessions.pooled.data.avS[i]))\n",
    "fout.close()\n",
    "fout = open(fname[:-5] + '_fit.txt', 'w')\n",
    "for i in range(len(fplots[0][0])):\n",
    "    fout.write('{0:.6e}\\t{1:.6e}\\n'.\n",
    "        format(fplots[0][0][i], fplots[0][1][i]))\n",
    "fout.close()"
   ]
  },
  {
   "cell_type": "code",
   "execution_count": null,
   "metadata": {},
   "outputs": [],
   "source": []
  }
 ],
 "metadata": {
  "kernelspec": {
   "display_name": "Python 3",
   "language": "python",
   "name": "python3"
  },
  "language_info": {
   "codemirror_mode": {
    "name": "ipython",
    "version": 3
   },
   "file_extension": ".py",
   "mimetype": "text/x-python",
   "name": "python",
   "nbconvert_exporter": "python",
   "pygments_lexer": "ipython3",
   "version": "3.6.5"
  }
 },
 "nbformat": 4,
 "nbformat_minor": 1
}
