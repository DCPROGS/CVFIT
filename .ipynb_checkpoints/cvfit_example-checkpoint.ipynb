{
 "cells": [
  {
   "cell_type": "code",
   "execution_count": 1,
   "metadata": {
    "collapsed": true
   },
   "outputs": [],
   "source": [
    "%matplotlib inline"
   ]
  },
  {
   "cell_type": "code",
   "execution_count": 2,
   "metadata": {
    "collapsed": true
   },
   "outputs": [],
   "source": [
    "from pylab import*\n",
    "import numpy as np"
   ]
  },
  {
   "cell_type": "code",
   "execution_count": 3,
   "metadata": {
    "collapsed": true
   },
   "outputs": [],
   "source": [
    "import sys\n",
    "sys.path.append('\\CVFIT')"
   ]
  },
  {
   "cell_type": "code",
   "execution_count": 4,
   "metadata": {
    "collapsed": false
   },
   "outputs": [],
   "source": [
    "from cvfit import fitting\n",
    "from cvfit.fitting import SingleFitSession\n",
    "from cvfit.fitting import MultipleFitSession"
   ]
  },
  {
   "cell_type": "code",
   "execution_count": 8,
   "metadata": {
    "collapsed": false
   },
   "outputs": [
    {
     "name": "stdout",
     "output_type": "stream",
     "text": [
      "File C:\\CVFIT./Example/Example.xlsx loaded\n",
      "5 sets found.\n",
      "\n",
      "Please select the weighting method now:\n",
      "1: Weights constant; errors from residuals (Default).\n",
      "2, 3: s(Y) or n are not specified for some or all pints. Weights cannot by specified from s(Y) or n.\n",
      "4: s(Y) cannot be calculated because some or all X have only one repeat. Weights cannot by specified from s(Y).\n",
      "5: Arbitrary weights entered by hand now (NOT IMPLEMENTED YET).\n",
      "Mode number [1]: 1\n",
      "\n",
      "Set #1:\n",
      "\n",
      "X\tY\ts(Y)\tweight\n",
      "30\t54\t0\t1\n",
      "100\t538\t0\t1\n",
      "300\t2745\t0\t1\n",
      "1000\t6493\t0\t1\n",
      "3000\t8450\t0\t1\n",
      "3000\t9793\t0\t1\n",
      "3000\t9647\t0\t1\n",
      "3000\t10023\t0\t1\n",
      "3000\t9025\t0\t1\n",
      "3000\t9341\t0\t1\n",
      "10000\t10349\t0\t1\n",
      "10000\t10467\t0\t1\n",
      "30000\t11527\t0\t1\n",
      "30000\t10946\t0\t1\n",
      "\n",
      "\n",
      "Set #2:\n",
      "\n",
      "X\tY\ts(Y)\tweight\n",
      "30\t91\t0\t1\n",
      "100\t645\t0\t1\n",
      "300\t2460\t0\t1\n",
      "600\t3592\t0\t1\n",
      "1000\t4369\t0\t1\n",
      "1000\t4598\t0\t1\n",
      "1000\t4752\t0\t1\n",
      "1000\t4724\t0\t1\n",
      "1000\t4412\t0\t1\n",
      "3000\t6430\t0\t1\n",
      "10000\t7227\t0\t1\n",
      "30000\t7970\t0\t1\n",
      "30000\t7976\t0\t1\n",
      "\n",
      "\n",
      "Set #3:\n",
      "\n",
      "X\tY\ts(Y)\tweight\n",
      "100\t1731\t0\t1\n",
      "300\t7829\t0\t1\n",
      "600\t11922\t0\t1\n",
      "1000\t14397\t0\t1\n",
      "3000\t16500\t0\t1\n",
      "3000\t17804\t0\t1\n",
      "3000\t18528\t0\t1\n",
      "3000\t18820\t0\t1\n",
      "10000\t18818\t0\t1\n",
      "30000\t19593.5\t0\t1\n",
      "\n",
      "\n",
      "Set #4:\n",
      "\n",
      "X\tY\ts(Y)\tweight\n",
      "30\t305\t0\t1\n",
      "100\t1856\t0\t1\n",
      "300\t7834.5\t0\t1\n",
      "600\t8970\t0\t1\n",
      "600\t9534\t0\t1\n",
      "600\t11256\t0\t1\n",
      "600\t10424\t0\t1\n",
      "600\t12133\t0\t1\n",
      "1000\t13201\t0\t1\n",
      "3000\t16686\t0\t1\n",
      "10000\t17145\t0\t1\n",
      "30000\t16329\t0\t1\n",
      "\n",
      "\n",
      "Set #5:\n",
      "\n",
      "X\tY\ts(Y)\tweight\n",
      "100\t980\t0\t1\n",
      "300\t3193\t0\t1\n",
      "600\t4949\t0\t1\n",
      "1000\t4806\t0\t1\n",
      "1000\t6183\t0\t1\n",
      "1000\t6188\t0\t1\n",
      "1000\t6162\t0\t1\n",
      "1000\t6355\t0\t1\n",
      "1000\t6190\t0\t1\n",
      "3000\t8658\t0\t1\n",
      "10000\t9165\t0\t1\n",
      "10000\t9284\t0\t1\n",
      "10000\t9000\t0\t1\n",
      "30000\t9276\t0\t1\n",
      "30000\t9492\t0\t1\n",
      "30000\t9674\t0\t1\n",
      "\n"
     ]
    }
   ],
   "source": [
    "sets, fname = fitting.load_data(example=True)\n",
    "print('File {0} loaded'.format(fname))\n",
    "print('{0:d} sets found.'.format(len(sets)))\n",
    "sets = fitting.set_weights(sets)\n",
    "for i in range(len(sets)):\n",
    "    print ('\\nSet #{0:d}:'.format(i+1))\n",
    "    print (sets[i])"
   ]
  },
  {
   "cell_type": "code",
   "execution_count": 6,
   "metadata": {
    "collapsed": true
   },
   "outputs": [],
   "source": [
    "eqname = 'Hill'\n",
    "from cvfit.equations import Hill"
   ]
  },
  {
   "cell_type": "markdown",
   "metadata": {},
   "source": [
    "# Example of single fit session."
   ]
  },
  {
   "cell_type": "code",
   "execution_count": 7,
   "metadata": {
    "collapsed": false
   },
   "outputs": [
    {
     "name": "stdout",
     "output_type": "stream",
     "text": [
      "\n",
      "\tFitting session for Set 1 initialised!"
     ]
    }
   ],
   "source": [
    "eq = Hill(eqname)\n",
    "fs = SingleFitSession(sets[0], eq)"
   ]
  },
  {
   "cell_type": "code",
   "execution_count": 53,
   "metadata": {
    "collapsed": false
   },
   "outputs": [
    {
     "name": "stdout",
     "output_type": "stream",
     "text": [
      "\n",
      " Restarted at result of local search minimum\n",
      "\n",
      " Restarted at averaged vertices\n",
      "\n",
      " Restarted at result of local search minimum\n",
      "\n",
      " Restarted at result of local search minimum\n",
      "\n",
      " Returned with result of local search minimum\n"
     ]
    }
   ],
   "source": [
    "fs.fit()"
   ]
  },
  {
   "cell_type": "code",
   "execution_count": 54,
   "metadata": {
    "collapsed": false
   },
   "outputs": [
    {
     "name": "stdout",
     "output_type": "stream",
     "text": [
      "Number of point fitted = 14\n",
      "Number of parameters estimated = 3\n",
      "Degrees of freedom = 11\n",
      "Residual error SD = 446.029      (variance = 198941.810)\n",
      "Parameter 1: Ymin  \t= 0  \t  (fixed)\n",
      "Parameter 2: Ymax  \t= 11124.1  \t  Approx SD = 297.241\t  CV = 2.7\n",
      "Parameter 3: EC50  \t= 773.58  \t  Approx SD = 80.5618\t  CV = 10.4\n",
      "Parameter 4: nH    \t= 1.23848  \t  Approx SD = 0.118585\t  CV = 9.6\n",
      "Minimum SSD = 2188359.915; \n",
      "Max log-likelihood = -103.938\n",
      "Correlation matrix = [!!!! PRINTOUT OF CORRELATION MATRIX NOT IMPLEMENTED YET. SORRY.\n",
      "\n",
      "\n",
      "LIKELIHOOD INTERVALS\n",
      "2.42-unit Likelihood Intervals  (equivalent SD for Gaussian- 2.2)\n",
      "Lmax= -103.938;   Lcrit= -106.36\n",
      "Parameter 1:   Ymin\t= 0\t  (fixed)\n",
      "Parameter 2:   Ymax\t= 11124.1\t  LOWER = 10528.6\t  UPPER = 11807.7\n",
      "Parameter 3:   EC50\t= 773.58\t  LOWER = 614.965\t  UPPER = 958.862\n",
      "Parameter 4:   nH  \t= 1.23848\t  LOWER = 1.01316\t  UPPER = 1.5316\n"
     ]
    }
   ],
   "source": [
    "fs.calculate_errors()\n",
    "print(fs.string_estimates())\n",
    "print(fs.string_liklimits())"
   ]
  },
  {
   "cell_type": "code",
   "execution_count": null,
   "metadata": {
    "collapsed": true
   },
   "outputs": [],
   "source": []
  },
  {
   "cell_type": "markdown",
   "metadata": {},
   "source": [
    "# Example of multiple fit session"
   ]
  },
  {
   "cell_type": "code",
   "execution_count": 42,
   "metadata": {
    "collapsed": false
   },
   "outputs": [
    {
     "name": "stdout",
     "output_type": "stream",
     "text": [
      "\n",
      "\tFitting session for Set 1 initialised!\n",
      "\tFitting session for Set 2 initialised!\n",
      "\tFitting session for Set 3 initialised!\n",
      "\tFitting session for Set 4 initialised!\n",
      "\tFitting session for Set 5 initialised!"
     ]
    }
   ],
   "source": [
    "fits = MultipleFitSession()\n",
    "for dataset in sets:\n",
    "    eq = Hill(eqname)\n",
    "    fs = SingleFitSession(dataset, eq)\n",
    "    fits.add(fs)"
   ]
  },
  {
   "cell_type": "code",
   "execution_count": 43,
   "metadata": {
    "collapsed": false
   },
   "outputs": [
    {
     "name": "stdout",
     "output_type": "stream",
     "text": [
      "\n",
      "\tSTART FITTING ===============\n",
      "\n",
      " Restarted at result of local search minimum\n",
      "\n",
      " Restarted at averaged vertices\n",
      "\n",
      " Restarted at result of local search minimum\n",
      "\n",
      " Restarted at result of local search minimum\n",
      "\n",
      " Returned with result of local search minimum\n",
      "Number of point fitted = 14\n",
      "Number of parameters estimated = 3\n",
      "Degrees of freedom = 11\n",
      "Residual error SD = 446.029      (variance = 198941.810)\n",
      "Parameter 1: Ymin  \t= 0  \t  (fixed)\n",
      "Parameter 2: Ymax  \t= 11124.1  \t  Approx SD = 297.241\t  CV = 2.7\n",
      "Parameter 3: EC50  \t= 773.58  \t  Approx SD = 80.5618\t  CV = 10.4\n",
      "Parameter 4: nH    \t= 1.23848  \t  Approx SD = 0.118585\t  CV = 9.6\n",
      "Minimum SSD = 2188359.915; \n",
      "Max log-likelihood = -103.938\n",
      "Correlation matrix = [!!!! PRINTOUT OF CORRELATION MATRIX NOT IMPLEMENTED YET. SORRY.\n",
      "\n",
      "\n",
      "LIKELIHOOD INTERVALS\n",
      "2.42-unit Likelihood Intervals  (equivalent SD for Gaussian- 2.2)\n",
      "Lmax= -103.938;   Lcrit= -106.36\n",
      "Parameter 1:   Ymin\t= 0\t  (fixed)\n",
      "Parameter 2:   Ymax\t= 11124.1\t  LOWER = 10528.6\t  UPPER = 11807.7\n",
      "Parameter 3:   EC50\t= 773.58\t  LOWER = 614.965\t  UPPER = 958.862\n",
      "Parameter 4:   nH  \t= 1.23848\t  LOWER = 1.01316\t  UPPER = 1.5316\n",
      "\n",
      "\tFITTING FINISHED ============\n",
      "\n",
      "\tSTART FITTING ===============\n",
      "\n",
      " Restarted at result of local search minimum\n",
      "\n",
      " Restarted at averaged vertices\n",
      "\n",
      " Restarted at result of local search minimum\n",
      "\n",
      " Restarted at result of local search minimum\n",
      "\n",
      " Returned with result of local search minimum\n",
      "Number of point fitted = 13\n",
      "Number of parameters estimated = 3\n",
      "Degrees of freedom = 10\n",
      "Residual error SD = 194.615      (variance = 37874.957)\n",
      "Parameter 1: Ymin  \t= 0  \t  (fixed)\n",
      "Parameter 2: Ymax  \t= 8032.03  \t  Approx SD = 155.083\t  CV = 1.9\n",
      "Parameter 3: EC50  \t= 758.976  \t  Approx SD = 42.5827\t  CV = 5.6\n",
      "Parameter 4: nH    \t= 1.02066  \t  Approx SD = 0.0677128\t  CV = 6.6\n",
      "Minimum SSD = 378749.571; \n",
      "Max log-likelihood = -85.654\n",
      "Correlation matrix = [!!!! PRINTOUT OF CORRELATION MATRIX NOT IMPLEMENTED YET. SORRY.\n",
      "\n",
      "\n",
      "LIKELIHOOD INTERVALS\n",
      "2.48-unit Likelihood Intervals  (equivalent SD for Gaussian- 2.23)\n",
      "Lmax= -85.6543;   Lcrit= -88.1363\n",
      "Parameter 1:   Ymin\t= 0\t  (fixed)\n",
      "Parameter 2:   Ymax\t= 8032.03\t  LOWER = 7714.85\t  UPPER = 8389.7\n",
      "Parameter 3:   EC50\t= 758.976\t  LOWER = 674.479\t  UPPER = 862.745\n",
      "Parameter 4:   nH  \t= 1.02066\t  LOWER = 0.883941\t  UPPER = 1.1783\n",
      "\n",
      "\tFITTING FINISHED ============\n",
      "\n",
      "\tSTART FITTING ===============\n",
      "\n",
      " Restarted at averaged vertices\n",
      "\n",
      " Restarted at averaged vertices\n",
      "\n",
      " Returned with best vertex\n",
      "Number of point fitted = 10\n",
      "Number of parameters estimated = 3\n",
      "Degrees of freedom = 7\n",
      "Residual error SD = 764.743      (variance = 584831.601)\n",
      "Parameter 1: Ymin  \t= 0  \t  (fixed)\n",
      "Parameter 2: Ymax  \t= 19236.4  \t  Approx SD = 518.044\t  CV = 2.7\n",
      "Parameter 3: EC50  \t= 425.338  \t  Approx SD = 39.063\t  CV = 9.2\n",
      "Parameter 4: nH    \t= 1.35863  \t  Approx SD = 0.162675\t  CV = 12.0\n",
      "Minimum SSD = 4093821.205; \n",
      "Max log-likelihood = -79.356\n",
      "Correlation matrix = [!!!! PRINTOUT OF CORRELATION MATRIX NOT IMPLEMENTED YET. SORRY.\n",
      "\n",
      "\n",
      "LIKELIHOOD INTERVALS\n",
      "2.8-unit Likelihood Intervals  (equivalent SD for Gaussian- 2.37)\n",
      "Lmax= -79.3555;   Lcrit= -82.1521\n",
      "Parameter 1:   Ymin\t= 0\t  (fixed)\n",
      "Parameter 2:   Ymax\t= 19236.4\t  LOWER = 18164.4\t  UPPER = 20588.4\n",
      "Parameter 3:   EC50\t= 425.338\t  LOWER = 345.585\t  UPPER = 529.992\n",
      "Parameter 4:   nH  \t= 1.35863\t  LOWER = 1.04003\t  UPPER = 1.80572\n",
      "\n",
      "\tFITTING FINISHED ============\n",
      "\n",
      "\tSTART FITTING ===============\n",
      "\n",
      " Restarted at averaged vertices\n",
      "\n",
      " Restarted at averaged vertices\n",
      "\n",
      " Restarted at averaged vertices\n",
      "\n",
      " Restarted at result of local search minimum\n",
      "\n",
      " Returned with result of local search minimum\n",
      "Number of point fitted = 12\n",
      "Number of parameters estimated = 3\n",
      "Degrees of freedom = 9\n",
      "Residual error SD = 1006.919      (variance = 1013886.688)\n",
      "Parameter 1: Ymin  \t= 0  \t  (fixed)\n",
      "Parameter 2: Ymax  \t= 17059.3  \t  Approx SD = 687.795\t  CV = 4.0\n",
      "Parameter 3: EC50  \t= 408.194  \t  Approx SD = 42.3857\t  CV = 10.4\n",
      "Parameter 4: nH    \t= 1.34394  \t  Approx SD = 0.203167\t  CV = 15.1\n",
      "Minimum SSD = 9124980.194; \n",
      "Max log-likelihood = -98.710\n",
      "Correlation matrix = [!!!! PRINTOUT OF CORRELATION MATRIX NOT IMPLEMENTED YET. SORRY.\n",
      "\n",
      "\n",
      "LIKELIHOOD INTERVALS\n",
      "2.56-unit Likelihood Intervals  (equivalent SD for Gaussian- 2.26)\n",
      "Lmax= -98.7098;   Lcrit= -101.268\n",
      "Parameter 1:   Ymin\t= 0\t  (fixed)\n",
      "Parameter 2:   Ymax\t= 17059.3\t  LOWER = 15625\t  UPPER = 18669.7\n",
      "Parameter 3:   EC50\t= 408.194\t  LOWER = 318.684\t  UPPER = 508.845\n",
      "Parameter 4:   nH  \t= 1.34394\t  LOWER = 0.965161\t  UPPER = 1.88698\n",
      "\n",
      "\tFITTING FINISHED ============\n",
      "\n",
      "\tSTART FITTING ===============\n",
      "\n",
      " Restarted at result of local search minimum\n",
      "\n",
      " Restarted at result of local search minimum\n",
      "\n",
      " Restarted at averaged vertices\n",
      "\n",
      " Restarted at result of local search minimum\n",
      "\n",
      " Returned with result of local search minimum\n",
      "Number of point fitted = 16\n",
      "Number of parameters estimated = 3\n",
      "Degrees of freedom = 13\n",
      "Residual error SD = 409.071      (variance = 167339.261)\n",
      "Parameter 1: Ymin  \t= 0  \t  (fixed)\n",
      "Parameter 2: Ymax  \t= 9617.18  \t  Approx SD = 221.539\t  CV = 2.3\n",
      "Parameter 3: EC50  \t= 615.621  \t  Approx SD = 45.689\t  CV = 7.4\n",
      "Parameter 4: nH    \t= 1.11171  \t  Approx SD = 0.123225\t  CV = 11.1\n",
      "Minimum SSD = 2175410.395; \n",
      "Max log-likelihood = -117.566\n",
      "Correlation matrix = [!!!! PRINTOUT OF CORRELATION MATRIX NOT IMPLEMENTED YET. SORRY.\n",
      "\n",
      "\n",
      "LIKELIHOOD INTERVALS\n",
      "2.33-unit Likelihood Intervals  (equivalent SD for Gaussian- 2.16)\n",
      "Lmax= -117.566;   Lcrit= -119.898\n",
      "Parameter 1:   Ymin\t= 0\t  (fixed)\n",
      "Parameter 2:   Ymax\t= 9617.18\t  LOWER = 9181.65\t  UPPER = 10135.9\n",
      "Parameter 3:   EC50\t= 615.621\t  LOWER = 523.1\t  UPPER = 718.742\n",
      "Parameter 4:   nH  \t= 1.11171\t  LOWER = 0.874653\t  UPPER = 1.39763\n",
      "\n",
      "\tFITTING FINISHED ============\n",
      "\n",
      "FINISHED FITTING ALL SETS\n"
     ]
    }
   ],
   "source": [
    "for fs in fits.list:\n",
    "    print(\"\\n\\tSTART FITTING ===============\")\n",
    "    fs.fit()\n",
    "    fs.calculate_errors()\n",
    "    print(fs.string_estimates())\n",
    "    print(fs.string_liklimits())\n",
    "    print(\"\\n\\tFITTING FINISHED ============\")\n",
    "print (\"\\nFINISHED FITTING ALL SETS\")\n",
    "    "
   ]
  },
  {
   "cell_type": "code",
   "execution_count": 44,
   "metadata": {
    "collapsed": false
   },
   "outputs": [
    {
     "data": {
      "image/png": "[encoded data removed]",
      "text/plain": [
       "<matplotlib.figure.Figure at 0x6e9b5b0>"
      ]
     },
     "metadata": {},
     "output_type": "display_data"
    }
   ],
   "source": [
    "fplots = fits.prepare_fplot('fit')\n",
    "for set in sets:\n",
    "    semilogx(set.X, set.Y, 'o', label=set.title)\n",
    "for fp in fplots:\n",
    "    semilogx(fp[0], fp[1], 'b-')\n",
    "show()"
   ]
  },
  {
   "cell_type": "code",
   "execution_count": null,
   "metadata": {
    "collapsed": true
   },
   "outputs": [],
   "source": []
  }
 ],
 "metadata": {
  "kernelspec": {
   "display_name": "Python 3",
   "language": "python",
   "name": "python3"
  },
  "language_info": {
   "codemirror_mode": {
    "name": "ipython",
    "version": 3
   },
   "file_extension": ".py",
   "mimetype": "text/x-python",
   "name": "python",
   "nbconvert_exporter": "python",
   "pygments_lexer": "ipython3",
   "version": "3.5.0"
  }
 },
 "nbformat": 4,
 "nbformat_minor": 0
}
