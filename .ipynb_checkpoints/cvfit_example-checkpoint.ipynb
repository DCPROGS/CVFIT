{
 "cells": [
  {
   "cell_type": "code",
   "execution_count": 1,
   "metadata": {},
   "outputs": [],
   "source": [
    "%matplotlib inline\n",
    "from pylab import*\n",
    "import numpy as np"
   ]
  },
  {
   "cell_type": "code",
   "execution_count": 2,
   "metadata": {},
   "outputs": [],
   "source": [
    "from cvfit import fitting\n",
    "from cvfit.fitting import SingleFitSession\n",
    "from cvfit.fitting import MultipleFitSession"
   ]
  },
  {
   "cell_type": "code",
   "execution_count": 3,
   "metadata": {
    "scrolled": false
   },
   "outputs": [
    {
     "name": "stdout",
     "output_type": "stream",
     "text": [
      "File C:\\DCPROGS\\CVFIT./Example/Example.xlsx loaded\n",
      "5 sets found.\n",
      "\n",
      "Set #1:\n",
      "\n",
      "X\tY\ts(Y)\tweight\n",
      "30\t54\t0\t1\n",
      "100\t538\t0\t1\n",
      "300\t2745\t0\t1\n",
      "1000\t6493\t0\t1\n",
      "3000\t8450\t0\t1\n",
      "3000\t9793\t0\t1\n",
      "3000\t9647\t0\t1\n",
      "3000\t10023\t0\t1\n",
      "3000\t9025\t0\t1\n",
      "3000\t9341\t0\t1\n",
      "10000\t10349\t0\t1\n",
      "10000\t10467\t0\t1\n",
      "30000\t11527\t0\t1\n",
      "30000\t10946\t0\t1\n",
      "\n",
      "\n",
      "Set #2:\n",
      "\n",
      "X\tY\ts(Y)\tweight\n",
      "30\t91\t0\t1\n",
      "100\t645\t0\t1\n",
      "300\t2460\t0\t1\n",
      "600\t3592\t0\t1\n",
      "1000\t4369\t0\t1\n",
      "1000\t4598\t0\t1\n",
      "1000\t4752\t0\t1\n",
      "1000\t4724\t0\t1\n",
      "1000\t4412\t0\t1\n",
      "3000\t6430\t0\t1\n",
      "10000\t7227\t0\t1\n",
      "30000\t7970\t0\t1\n",
      "30000\t7976\t0\t1\n",
      "\n",
      "\n",
      "Set #3:\n",
      "\n",
      "X\tY\ts(Y)\tweight\n",
      "100\t1731\t0\t1\n",
      "300\t7829\t0\t1\n",
      "600\t11922\t0\t1\n",
      "1000\t14397\t0\t1\n",
      "3000\t16500\t0\t1\n",
      "3000\t17804\t0\t1\n",
      "3000\t18528\t0\t1\n",
      "3000\t18820\t0\t1\n",
      "10000\t18818\t0\t1\n",
      "30000\t19593.5\t0\t1\n",
      "\n",
      "\n",
      "Set #4:\n",
      "\n",
      "X\tY\ts(Y)\tweight\n",
      "30\t305\t0\t1\n",
      "100\t1856\t0\t1\n",
      "300\t7834.5\t0\t1\n",
      "600\t8970\t0\t1\n",
      "600\t9534\t0\t1\n",
      "600\t11256\t0\t1\n",
      "600\t10424\t0\t1\n",
      "600\t12133\t0\t1\n",
      "1000\t13201\t0\t1\n",
      "3000\t16686\t0\t1\n",
      "10000\t17145\t0\t1\n",
      "30000\t16329\t0\t1\n",
      "\n",
      "\n",
      "Set #5:\n",
      "\n",
      "X\tY\ts(Y)\tweight\n",
      "100\t980\t0\t1\n",
      "300\t3193\t0\t1\n",
      "600\t4949\t0\t1\n",
      "1000\t4806\t0\t1\n",
      "1000\t6183\t0\t1\n",
      "1000\t6188\t0\t1\n",
      "1000\t6162\t0\t1\n",
      "1000\t6355\t0\t1\n",
      "1000\t6190\t0\t1\n",
      "3000\t8658\t0\t1\n",
      "10000\t9165\t0\t1\n",
      "10000\t9284\t0\t1\n",
      "10000\t9000\t0\t1\n",
      "30000\t9276\t0\t1\n",
      "30000\t9492\t0\t1\n",
      "30000\t9674\t0\t1\n",
      "\n"
     ]
    }
   ],
   "source": [
    "datasets, fname = fitting.load_data(example=True)\n",
    "print('File {0} loaded'.format(fname))\n",
    "print('{0:d} sets found.'.format(len(datasets)))\n",
    "#sets = fitting.set_weights(sets)\n",
    "for i in range(len(datasets)):\n",
    "    print ('\\nSet #{0:d}:'.format(i+1))\n",
    "    print (datasets[i])"
   ]
  },
  {
   "cell_type": "markdown",
   "metadata": {},
   "source": [
    "# Example of single fit session."
   ]
  },
  {
   "cell_type": "code",
   "execution_count": 4,
   "metadata": {},
   "outputs": [
    {
     "name": "stdout",
     "output_type": "stream",
     "text": [
      "\n",
      "\tFitting session for Set 1 initialised!"
     ]
    }
   ],
   "source": [
    "from cvfit.equations import Hill\n",
    "eq = Hill('Hill')\n",
    "fs = SingleFitSession(datasets[0], eq)"
   ]
  },
  {
   "cell_type": "code",
   "execution_count": 5,
   "metadata": {},
   "outputs": [
    {
     "name": "stdout",
     "output_type": "stream",
     "text": [
      "Number of point fitted = 14\n",
      "Number of parameters estimated = 3\n",
      "Degrees of freedom = 11\n",
      "Residual error SD = 446.029      (variance = 198941.810)\n",
      "Parameter 1: Ymin  \t= 0  \t  (fixed)\n",
      "Parameter 2: Ymax  \t= 11124.1  \t  Approx SD = 297.241\t  CV = 2.7\n",
      "Parameter 3: EC50  \t= 773.58  \t  Approx SD = 80.5618\t  CV = 10.4\n",
      "Parameter 4: nH    \t= 1.23848  \t  Approx SD = 0.118585\t  CV = 9.6\n",
      "Minimum SSD = 2188359.915; \n",
      "Max log-likelihood = -103.582\n",
      "Correlation matrix = [!!!! PRINTOUT OF CORRELATION MATRIX NOT IMPLEMENTED YET. SORRY.\n",
      "\n",
      "\n",
      "LIKELIHOOD INTERVALS\n",
      "2.42-unit Likelihood Intervals  (equivalent SD for Gaussian- 2.2)\n",
      "Lmax= -103.582;   Lcrit= -106.005\n",
      "Parameter 1:   Ymin\t= 0\t  (fixed)\n",
      "Parameter 2:   Ymax\t= 11124.1\t  LOWER = 10528.6\t  UPPER = 11807.7\n",
      "Parameter 3:   EC50\t= 773.58\t  LOWER = 614.965\t  UPPER = 958.862\n",
      "Parameter 4:   nH  \t= 1.23848\t  LOWER = 1.01316\t  UPPER = 1.5316\n"
     ]
    }
   ],
   "source": [
    "fs.fit()\n",
    "fs.calculate_errors()\n",
    "print(fs.string_estimates())\n",
    "print(fs.string_liklimits())"
   ]
  },
  {
   "cell_type": "markdown",
   "metadata": {},
   "source": [
    "# Example of multiple fit session"
   ]
  },
  {
   "cell_type": "code",
   "execution_count": 7,
   "metadata": {},
   "outputs": [
    {
     "name": "stdout",
     "output_type": "stream",
     "text": [
      "\n",
      "\tFitting session for Set 1 initialised!\n",
      "\tFitting session for Set 2 initialised!\n",
      "\tFitting session for Set 3 initialised!\n",
      "\tFitting session for Set 4 initialised!\n",
      "\tFitting session for Set 5 initialised!"
     ]
    }
   ],
   "source": [
    "fits = MultipleFitSession()\n",
    "for each in datasets:\n",
    "    eq = Hill('Hill')\n",
    "    fs = SingleFitSession(each, eq)\n",
    "    fits.add(fs)"
   ]
  },
  {
   "cell_type": "code",
   "execution_count": 9,
   "metadata": {
    "scrolled": false
   },
   "outputs": [
    {
     "name": "stdout",
     "output_type": "stream",
     "text": [
      "\n",
      "\tSTART FITTING ===============\n",
      "Number of point fitted = 14\n",
      "Number of parameters estimated = 3\n",
      "Degrees of freedom = 11\n",
      "Residual error SD = 446.029      (variance = 198941.529)\n",
      "Parameter 1: Ymin  \t= 0  \t  (fixed)\n",
      "Parameter 2: Ymax  \t= 11124.3  \t  Approx SD = 297.288\t  CV = 2.7\n",
      "Parameter 3: EC50  \t= 773.599  \t  Approx SD = 80.5627\t  CV = 10.4\n",
      "Parameter 4: nH    \t= 1.23851  \t  Approx SD = 0.118615\t  CV = 9.6\n",
      "Minimum SSD = 2188356.817; \n",
      "Max log-likelihood = -103.582\n",
      "Correlation matrix = [!!!! PRINTOUT OF CORRELATION MATRIX NOT IMPLEMENTED YET. SORRY.\n",
      "\n",
      "\n",
      "LIKELIHOOD INTERVALS\n",
      "2.42-unit Likelihood Intervals  (equivalent SD for Gaussian- 2.2)\n",
      "Lmax= -103.582;   Lcrit= -106.005\n",
      "Parameter 1:   Ymin\t= 0\t  (fixed)\n",
      "Parameter 2:   Ymax\t= 11124.3\t  LOWER = 10528.8\t  UPPER = 11808.1\n",
      "Parameter 3:   EC50\t= 773.599\t  LOWER = 614.983\t  UPPER = 958.883\n",
      "Parameter 4:   nH  \t= 1.23851\t  LOWER = 1.01314\t  UPPER = 1.53171\n",
      "\n",
      "\tFITTING FINISHED ============\n",
      "\n",
      "\tSTART FITTING ===============\n",
      "Number of point fitted = 13\n",
      "Number of parameters estimated = 3\n",
      "Degrees of freedom = 10\n",
      "Residual error SD = 194.614      (variance = 37874.507)\n",
      "Parameter 1: Ymin  \t= 0  \t  (fixed)\n",
      "Parameter 2: Ymax  \t= 8032.23  \t  Approx SD = 155.088\t  CV = 1.9\n",
      "Parameter 3: EC50  \t= 758.995  \t  Approx SD = 42.5814\t  CV = 5.6\n",
      "Parameter 4: nH    \t= 1.02069  \t  Approx SD = 0.0677215\t  CV = 6.6\n",
      "Minimum SSD = 378745.070; \n",
      "Max log-likelihood = -85.264\n",
      "Correlation matrix = [!!!! PRINTOUT OF CORRELATION MATRIX NOT IMPLEMENTED YET. SORRY.\n",
      "\n",
      "\n",
      "LIKELIHOOD INTERVALS\n",
      "2.48-unit Likelihood Intervals  (equivalent SD for Gaussian- 2.23)\n",
      "Lmax= -85.2641;   Lcrit= -87.746\n",
      "Parameter 1:   Ymin\t= 0\t  (fixed)\n",
      "Parameter 2:   Ymax\t= 8032.23\t  LOWER = 7715.04\t  UPPER = 8389.91\n",
      "Parameter 3:   EC50\t= 758.995\t  LOWER = 674.5\t  UPPER = 862.761\n",
      "Parameter 4:   nH  \t= 1.02069\t  LOWER = 0.883949\t  UPPER = 1.17835\n",
      "\n",
      "\tFITTING FINISHED ============\n",
      "\n",
      "\tSTART FITTING ===============\n",
      "Number of point fitted = 10\n",
      "Number of parameters estimated = 3\n",
      "Degrees of freedom = 7\n",
      "Residual error SD = 764.743      (variance = 584831.601)\n",
      "Parameter 1: Ymin  \t= 0  \t  (fixed)\n",
      "Parameter 2: Ymax  \t= 19236.4  \t  Approx SD = 518.044\t  CV = 2.7\n",
      "Parameter 3: EC50  \t= 425.338  \t  Approx SD = 39.063\t  CV = 9.2\n",
      "Parameter 4: nH    \t= 1.35863  \t  Approx SD = 0.162675\t  CV = 12.0\n",
      "Minimum SSD = 4093821.205; \n",
      "Max log-likelihood = -78.801\n",
      "Correlation matrix = [!!!! PRINTOUT OF CORRELATION MATRIX NOT IMPLEMENTED YET. SORRY.\n",
      "\n",
      "\n",
      "LIKELIHOOD INTERVALS\n",
      "2.8-unit Likelihood Intervals  (equivalent SD for Gaussian- 2.37)\n",
      "Lmax= -78.8014;   Lcrit= -81.598\n",
      "Parameter 1:   Ymin\t= 0\t  (fixed)\n",
      "Parameter 2:   Ymax\t= 19236.4\t  LOWER = 18164.4\t  UPPER = 20588.4\n",
      "Parameter 3:   EC50\t= 425.338\t  LOWER = 345.585\t  UPPER = 529.992\n",
      "Parameter 4:   nH  \t= 1.35863\t  LOWER = 1.04003\t  UPPER = 1.80572\n",
      "\n",
      "\tFITTING FINISHED ============\n",
      "\n",
      "\tSTART FITTING ===============\n",
      "Number of point fitted = 12\n",
      "Number of parameters estimated = 3\n",
      "Degrees of freedom = 9\n",
      "Residual error SD = 1006.895      (variance = 1013838.519)\n",
      "Parameter 1: Ymin  \t= 0  \t  (fixed)\n",
      "Parameter 2: Ymax  \t= 17068.8  \t  Approx SD = 688.511\t  CV = 4.0\n",
      "Parameter 3: EC50  \t= 408.788  \t  Approx SD = 42.43\t  CV = 10.4\n",
      "Parameter 4: nH    \t= 1.34292  \t  Approx SD = 0.203103\t  CV = 15.1\n",
      "Minimum SSD = 9124546.671; \n",
      "Max log-likelihood = -98.277\n",
      "Correlation matrix = [!!!! PRINTOUT OF CORRELATION MATRIX NOT IMPLEMENTED YET. SORRY.\n",
      "\n",
      "\n",
      "LIKELIHOOD INTERVALS\n",
      "2.56-unit Likelihood Intervals  (equivalent SD for Gaussian- 2.26)\n",
      "Lmax= -98.2767;   Lcrit= -100.835\n",
      "Parameter 1:   Ymin\t= 0\t  (fixed)\n",
      "Parameter 2:   Ymax\t= 17068.8\t  LOWER = 15620.9\t  UPPER = 18673.3\n",
      "Parameter 3:   EC50\t= 408.788\t  LOWER = 318.81\t  UPPER = 508.607\n",
      "Parameter 4:   nH  \t= 1.34292\t  LOWER = 0.966049\t  UPPER = 1.88579\n",
      "\n",
      "\tFITTING FINISHED ============\n",
      "\n",
      "\tSTART FITTING ===============\n",
      "Number of point fitted = 16\n",
      "Number of parameters estimated = 3\n",
      "Degrees of freedom = 13\n",
      "Residual error SD = 409.071      (variance = 167339.225)\n",
      "Parameter 1: Ymin  \t= 0  \t  (fixed)\n",
      "Parameter 2: Ymax  \t= 9616.94  \t  Approx SD = 221.523\t  CV = 2.3\n",
      "Parameter 3: EC50  \t= 615.605  \t  Approx SD = 45.6907\t  CV = 7.4\n",
      "Parameter 4: nH    \t= 1.11168  \t  Approx SD = 0.123198\t  CV = 11.1\n",
      "Minimum SSD = 2175409.923; \n",
      "Max log-likelihood = -117.264\n",
      "Correlation matrix = [!!!! PRINTOUT OF CORRELATION MATRIX NOT IMPLEMENTED YET. SORRY.\n",
      "\n",
      "\n",
      "LIKELIHOOD INTERVALS\n",
      "2.33-unit Likelihood Intervals  (equivalent SD for Gaussian- 2.16)\n",
      "Lmax= -117.264;   Lcrit= -119.597\n",
      "Parameter 1:   Ymin\t= 0\t  (fixed)\n",
      "Parameter 2:   Ymax\t= 9616.94\t  LOWER = 9181.44\t  UPPER = 10135.6\n",
      "Parameter 3:   EC50\t= 615.605\t  LOWER = 523.082\t  UPPER = 718.731\n",
      "Parameter 4:   nH  \t= 1.11168\t  LOWER = 0.874676\t  UPPER = 1.39754\n",
      "\n",
      "\tFITTING FINISHED ============\n",
      "\n",
      "FINISHED FITTING ALL SETS\n"
     ]
    }
   ],
   "source": [
    "for fs in fits.list:\n",
    "    print(\"\\n\\tSTART FITTING ===============\")\n",
    "    fs.fit()\n",
    "    fs.calculate_errors()\n",
    "    print(fs.string_estimates())\n",
    "    print(fs.string_liklimits())\n",
    "    print(\"\\n\\tFITTING FINISHED ============\")\n",
    "print (\"\\nFINISHED FITTING ALL SETS\")\n",
    "    "
   ]
  },
  {
   "cell_type": "code",
   "execution_count": 10,
   "metadata": {},
   "outputs": [
    {
     "data": {
      "image/png": "[encoded data removed]",
      "text/plain": [
       "<Figure size 432x288 with 1 Axes>"
      ]
     },
     "metadata": {},
     "output_type": "display_data"
    }
   ],
   "source": [
    "fplots = fits.prepare_fplot('fit')\n",
    "for each in datasets:\n",
    "    semilogx(each.X, each.Y, 'o', label=each.title)\n",
    "for fp in fplots:\n",
    "    semilogx(fp[0], fp[1], 'b-')"
   ]
  },
  {
   "cell_type": "code",
   "execution_count": null,
   "metadata": {},
   "outputs": [],
   "source": []
  }
 ],
 "metadata": {
  "kernelspec": {
   "display_name": "Python 3",
   "language": "python",
   "name": "python3"
  },
  "language_info": {
   "codemirror_mode": {
    "name": "ipython",
    "version": 3
   },
   "file_extension": ".py",
   "mimetype": "text/x-python",
   "name": "python",
   "nbconvert_exporter": "python",
   "pygments_lexer": "ipython3",
   "version": "3.6.5"
  }
 },
 "nbformat": 4,
 "nbformat_minor": 1
}
