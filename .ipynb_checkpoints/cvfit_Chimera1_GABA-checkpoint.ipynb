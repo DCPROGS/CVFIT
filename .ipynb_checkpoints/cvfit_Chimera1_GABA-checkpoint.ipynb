{
 "cells": [
  {
   "cell_type": "code",
   "execution_count": 1,
   "metadata": {},
   "outputs": [],
   "source": [
    "%matplotlib inline"
   ]
  },
  {
   "cell_type": "code",
   "execution_count": 2,
   "metadata": {},
   "outputs": [],
   "source": [
    "from pylab import*\n",
    "import numpy as np"
   ]
  },
  {
   "cell_type": "code",
   "execution_count": 3,
   "metadata": {},
   "outputs": [],
   "source": [
    "#import sys\n",
    "#sys.path.append('\\CVFIT')"
   ]
  },
  {
   "cell_type": "code",
   "execution_count": 4,
   "metadata": {},
   "outputs": [],
   "source": [
    "#from cvfit import fitting\n",
    "from cvfit.fitting import SingleFitSession\n",
    "from cvfit.fitting import MultipleFitSession\n",
    "from cvfit import data\n",
    "from cvfit import plots"
   ]
  },
  {
   "cell_type": "code",
   "execution_count": 5,
   "metadata": {
    "scrolled": false
   },
   "outputs": [
    {
     "name": "stdout",
     "output_type": "stream",
     "text": [
      "File Chimera1_tofit.xlsx loaded\n",
      "7 sets found.\n",
      "\n",
      "Set #1:\n",
      "\n",
      "X\tY\ts(Y)\tweight\n",
      "10\t90.5874\t0\t1\n",
      "10\t103.059\t0\t1\n",
      "20\t169.206\t0\t1\n",
      "50\t304.107\t0\t1\n",
      "100\t332.893\t0\t1\n",
      "200\t563.583\t0\t1\n",
      "300\t633.724\t0\t1\n",
      "300\t628.074\t0\t1\n",
      "300\t628.341\t0\t1\n",
      "\n",
      "\n",
      "Set #2:\n",
      "\n",
      "X\tY\ts(Y)\tweight\n",
      "10\t44.6445\t0\t1\n",
      "20\t96.1439\t0\t1\n",
      "50\t182.292\t0\t1\n",
      "100\t203.971\t0\t1\n",
      "200\t394.794\t0\t1\n",
      "300\t369.152\t0\t1\n",
      "300\t458.34\t0\t1\n",
      "300\t497.025\t0\t1\n",
      "\n",
      "\n",
      "Set #3:\n",
      "\n",
      "X\tY\ts(Y)\tweight\n",
      "10\t144.962\t0\t1\n",
      "20\t228.072\t0\t1\n",
      "20\t325.843\t0\t1\n",
      "50\t359.941\t0\t1\n",
      "50\t571.488\t0\t1\n",
      "100\t477.414\t0\t1\n",
      "200\t661.291\t0\t1\n",
      "200\t822.78\t0\t1\n",
      "300\t804.874\t0\t1\n",
      "300\t978\t0\t1\n",
      "300\t971.521\t0\t1\n",
      "300\t849.972\t0\t1\n",
      "\n",
      "\n",
      "Set #4:\n",
      "\n",
      "X\tY\ts(Y)\tweight\n",
      "10\t74.9393\t0\t1\n",
      "20\t168.546\t0\t1\n",
      "50\t365.788\t0\t1\n",
      "100\t473.351\t0\t1\n",
      "200\t714.229\t0\t1\n",
      "300\t689.361\t0\t1\n",
      "300\t893.892\t0\t1\n",
      "300\t907.393\t0\t1\n",
      "\n",
      "\n",
      "Set #5:\n",
      "\n",
      "X\tY\ts(Y)\tweight\n",
      "20\t62.6688\t0\t1\n",
      "50\t115\t0\t1\n",
      "100\t95.4777\t0\t1\n",
      "200\t223.862\t0\t1\n",
      "300\t236.678\t0\t1\n",
      "300\t220.554\t0\t1\n",
      "300\t274.139\t0\t1\n",
      "300\t259.1\t0\t1\n",
      "300\t250.555\t0\t1\n",
      "\n",
      "\n",
      "Set #6:\n",
      "\n",
      "X\tY\ts(Y)\tweight\n",
      "10\t59.1356\t0\t1\n",
      "20\t137.873\t0\t1\n",
      "50\t252.149\t0\t1\n",
      "100\t332.55\t0\t1\n",
      "200\t600.011\t0\t1\n",
      "300\t691.69\t0\t1\n",
      "300\t637.672\t0\t1\n",
      "300\t769.058\t0\t1\n",
      "300\t820.244\t0\t1\n",
      "300\t648.444\t0\t1\n",
      "\n",
      "\n",
      "Set #7:\n",
      "\n",
      "X\tY\ts(Y)\tweight\n",
      "20\t144.435\t0\t1\n",
      "50\t284.816\t0\t1\n",
      "100\t380.031\t0\t1\n",
      "200\t517.36\t0\t1\n",
      "300\t651.637\t0\t1\n",
      "300\t601.588\t0\t1\n",
      "300\t461.818\t0\t1\n",
      "300\t617.457\t0\t1\n",
      "\n"
     ]
    }
   ],
   "source": [
    "fname = \"Chimera1_tofit.xlsx\"\n",
    "sheet = 1\n",
    "sets = data.read_sets_from_Excel(fname, 2, 0, sheet)\n",
    "\n",
    "print('File {0} loaded'.format(fname))\n",
    "print('{0:d} sets found.'.format(len(sets)))\n",
    "    \n",
    "#sets = fitting.set_weights(sets)\n",
    "for i in range(len(sets)):\n",
    "    print ('\\nSet #{0:d}:'.format(i+1))\n",
    "    print (sets[i])"
   ]
  },
  {
   "cell_type": "code",
   "execution_count": 6,
   "metadata": {},
   "outputs": [],
   "source": [
    "eqname = 'Hill'\n",
    "if eqname == 'Hill' or eqname == 'Langmuir':\n",
    "        from cvfit.equations import Hill as eqfit"
   ]
  },
  {
   "cell_type": "markdown",
   "metadata": {},
   "source": [
    "# Example of multiple fit session"
   ]
  },
  {
   "cell_type": "code",
   "execution_count": 7,
   "metadata": {
    "scrolled": false
   },
   "outputs": [
    {
     "name": "stdout",
     "output_type": "stream",
     "text": [
      "\n",
      "\tFitting session for Set 1 initialised!\n",
      "*************************************************\n",
      "\tSet 1 fit finished\n",
      "Number of point fitted = 9\n",
      "Number of parameters estimated = 3\n",
      "Degrees of freedom = 6\n",
      "Residual error SD = 38.907      (variance = 1513.774)\n",
      "Parameter 1: Ymin  \t= 0  \t  (fixed)\n",
      "Parameter 2: Ymax  \t= 833.059  \t  Approx SD = 110.314\t  CV = 13.2\n",
      "Parameter 3: EC50  \t= 98.1281  \t  Approx SD = 34.5103\t  CV = 35.2\n",
      "Parameter 4: nH    \t= 0.942302  \t  Approx SD = 0.141313\t  CV = 15.0\n",
      "Minimum SSD = 9082.642; \n",
      "Max log-likelihood = -43.896\n",
      "Correlation matrix = [!!!! PRINTOUT OF CORRELATION MATRIX NOT IMPLEMENTED YET. SORRY.\n",
      "\n",
      "WARNING: SOME PARAMETERS ARE STRONGLY CORRELATED (coeff > 0.9); try different guesses\n",
      "WARNING: SOME PARAMETERS POORLY DEFINED (CV > 33%); try different guesses\n",
      "\n",
      "LIKELIHOOD INTERVALS\n",
      "2.99-unit Likelihood Intervals  (equivalent SD for Gaussian- 2.45)\n",
      "Lmax= -43.8965;   Lcrit= -46.8904\n",
      "Parameter 1:   Ymin\t= 0\t  (fixed)\n",
      "Parameter 2:   Ymax\t= 833.059\t  LOWER = 681.219\t  UPPER limit not found\n",
      "Parameter 3:   EC50\t= 98.1281\t  LOWER = 57.0593\t  UPPER limit not found\n",
      "Parameter 4:   nH  \t= 0.942302\t  LOWER = 0.391533\t  UPPER = 1.27324\n",
      "\n",
      "\tFitting session for Set 2 initialised!"
     ]
    },
    {
     "name": "stderr",
     "output_type": "stream",
     "text": [
      "C:\\DCPROGS\\CVFIT\\cvfit\\equations.py:167: RuntimeWarning: invalid value encountered in power\n",
      "  return (coeff[0] + ((coeff[1] - coeff[0]) * (conc / coeff[2]) ** coeff[3]) /\n",
      "C:\\DCPROGS\\CVFIT\\cvfit\\equations.py:168: RuntimeWarning: invalid value encountered in power\n",
      "  (1 + (conc / coeff[2]) ** coeff[3]))\n"
     ]
    },
    {
     "name": "stdout",
     "output_type": "stream",
     "text": [
      "\n",
      "*************************************************\n",
      "\tSet 2 fit finished\n",
      "Number of point fitted = 8\n",
      "Number of parameters estimated = 3\n",
      "Degrees of freedom = 5\n",
      "Residual error SD = 58.008      (variance = 3364.882)\n",
      "Parameter 1: Ymin  \t= 0  \t  (fixed)\n",
      "Parameter 2: Ymax  \t= 514.603  \t  Approx SD = 122.044\t  CV = 23.7\n",
      "Parameter 3: EC50  \t= 89.4214  \t  Approx SD = 43.0199\t  CV = 48.1\n",
      "Parameter 4: nH    \t= 1.40091  \t  Approx SD = 0.648799\t  CV = 46.3\n",
      "Minimum SSD = 16824.408; \n",
      "Max log-likelihood = -41.956\n",
      "Correlation matrix = [!!!! PRINTOUT OF CORRELATION MATRIX NOT IMPLEMENTED YET. SORRY.\n",
      "\n",
      "WARNING: SOME PARAMETERS ARE STRONGLY CORRELATED (coeff > 0.9); try different guesses\n",
      "WARNING: SOME PARAMETERS POORLY DEFINED (CV > 33%); try different guesses\n",
      "\n",
      "LIKELIHOOD INTERVALS\n",
      "3.31-unit Likelihood Intervals  (equivalent SD for Gaussian- 2.57)\n",
      "Lmax= -41.9561;   Lcrit= -45.2611\n",
      "Parameter 1:   Ymin\t= 0\t  (fixed)\n",
      "Parameter 2:   Ymax\t= 514.603\t  LOWER = 378.859\t  UPPER limit not found\n",
      "Parameter 3:   EC50\t= 89.4214\t  LOWER limit not found\t  UPPER limit not found\n",
      "Parameter 4:   nH  \t= 1.40091\t  LOWER = 0.314389\t  UPPER = 3.27422\n",
      "\n",
      "\tFitting session for Set 3 initialised!\n",
      "*************************************************\n",
      "\tSet 3 fit finished\n",
      "Number of point fitted = 12\n",
      "Number of parameters estimated = 3\n",
      "Degrees of freedom = 9\n",
      "Residual error SD = 98.537      (variance = 9709.618)\n",
      "Parameter 1: Ymin  \t= 0  \t  (fixed)\n",
      "Parameter 2: Ymax  \t= 1304.88  \t  Approx SD = 416.122\t  CV = 31.9\n",
      "Parameter 3: EC50  \t= 121.948  \t  Approx SD = 111.454\t  CV = 91.4\n",
      "Parameter 4: nH    \t= 0.79129  \t  Approx SD = 0.229856\t  CV = 29.0\n",
      "Minimum SSD = 87386.563; \n",
      "Max log-likelihood = -70.386\n",
      "Correlation matrix = [!!!! PRINTOUT OF CORRELATION MATRIX NOT IMPLEMENTED YET. SORRY.\n",
      "\n",
      "WARNING: SOME PARAMETERS ARE STRONGLY CORRELATED (coeff > 0.9); try different guesses\n",
      "WARNING: SOME PARAMETERS POORLY DEFINED (CV > 33%); try different guesses\n",
      "\n",
      "LIKELIHOOD INTERVALS\n",
      "2.56-unit Likelihood Intervals  (equivalent SD for Gaussian- 2.26)\n",
      "Lmax= -70.3864;   Lcrit= -72.9447\n",
      "Parameter 1:   Ymin\t= 0\t  (fixed)\n",
      "Parameter 2:   Ymax\t= 1304.88\t  LOWER = 875.612\t  UPPER limit not found\n",
      "Parameter 3:   EC50\t= 121.948\t  LOWER limit not found\t  UPPER limit not found\n",
      "Parameter 4:   nH  \t= 0.79129\t  LOWER = 0.307406\t  UPPER = 1.41836\n",
      "\n",
      "\tFitting session for Set 4 initialised!\n",
      "*************************************************\n",
      "\tSet 4 fit finished\n",
      "Number of point fitted = 8\n",
      "Number of parameters estimated = 3\n",
      "Degrees of freedom = 5\n",
      "Residual error SD = 82.477      (variance = 6802.416)\n",
      "Parameter 1: Ymin  \t= 0  \t  (fixed)\n",
      "Parameter 2: Ymax  \t= 1102.03  \t  Approx SD = 290.549\t  CV = 26.4\n",
      "Parameter 3: EC50  \t= 108.998  \t  Approx SD = 68.5652\t  CV = 62.9\n",
      "Parameter 4: nH    \t= 1.05008  \t  Approx SD = 0.322607\t  CV = 30.7\n",
      "Minimum SSD = 34012.082; \n",
      "Max log-likelihood = -44.772\n",
      "Correlation matrix = [!!!! PRINTOUT OF CORRELATION MATRIX NOT IMPLEMENTED YET. SORRY.\n",
      "\n",
      "WARNING: SOME PARAMETERS ARE STRONGLY CORRELATED (coeff > 0.9); try different guesses\n",
      "WARNING: SOME PARAMETERS POORLY DEFINED (CV > 33%); try different guesses\n",
      "\n",
      "LIKELIHOOD INTERVALS\n",
      "3.31-unit Likelihood Intervals  (equivalent SD for Gaussian- 2.57)\n",
      "Lmax= -44.7716;   Lcrit= -48.0766\n",
      "Parameter 1:   Ymin\t= 0\t  (fixed)\n",
      "Parameter 2:   Ymax\t= 1102.03\t  LOWER = 757.711\t  UPPER limit not found\n",
      "Parameter 3:   EC50\t= 108.998\t  LOWER limit not found\t  UPPER limit not found\n",
      "Parameter 4:   nH  \t= 1.05008\t  LOWER = 0.371317\t  UPPER = 2.37846\n",
      "\n",
      "\tFitting session for Set 5 initialised!\n",
      "*************************************************\n",
      "\tSet 5 fit finished\n",
      "Number of point fitted = 9\n",
      "Number of parameters estimated = 3\n",
      "Degrees of freedom = 6\n",
      "Residual error SD = 30.623      (variance = 937.764)\n",
      "Parameter 1: Ymin  \t= 0  \t  (fixed)\n",
      "Parameter 2: Ymax  \t= 354.506  \t  Approx SD = 118.221\t  CV = 33.3\n",
      "Parameter 3: EC50  \t= 138.43  \t  Approx SD = 106.154\t  CV = 76.7\n",
      "Parameter 4: nH    \t= 1.02995  \t  Approx SD = 0.385117\t  CV = 37.4\n",
      "Minimum SSD = 5626.586; \n",
      "Max log-likelihood = -41.742\n",
      "Correlation matrix = [!!!! PRINTOUT OF CORRELATION MATRIX NOT IMPLEMENTED YET. SORRY.\n",
      "\n",
      "WARNING: SOME PARAMETERS ARE STRONGLY CORRELATED (coeff > 0.9); try different guesses\n",
      "WARNING: SOME PARAMETERS POORLY DEFINED (CV > 33%); try different guesses\n",
      "\n",
      "LIKELIHOOD INTERVALS\n",
      "2.99-unit Likelihood Intervals  (equivalent SD for Gaussian- 2.45)\n",
      "Lmax= -41.7416;   Lcrit= -44.7355\n",
      "Parameter 1:   Ymin\t= 0\t  (fixed)\n",
      "Parameter 2:   Ymax\t= 354.506\t  LOWER = 240.091\t  UPPER limit not found\n",
      "Parameter 3:   EC50\t= 138.43\t  LOWER limit not found\t  UPPER limit not found\n",
      "Parameter 4:   nH  \t= 1.02995\t  LOWER = 0.295555\t  UPPER = 2.27235\n",
      "\n",
      "\tFitting session for Set 6 initialised!\n",
      "*************************************************\n",
      "\tSet 6 fit finished\n",
      "Number of point fitted = 10\n",
      "Number of parameters estimated = 3\n",
      "Degrees of freedom = 7\n",
      "Residual error SD = 83.957      (variance = 7048.786)\n",
      "Parameter 1: Ymin  \t= 0  \t  (fixed)\n",
      "Parameter 2: Ymax  \t= 790.022  \t  Approx SD = 91.0806\t  CV = 11.5\n",
      "Parameter 3: EC50  \t= 76.5754  \t  Approx SD = 21.2811\t  CV = 27.8\n",
      "Parameter 4: nH    \t= 1.43717  \t  Approx SD = 0.417534\t  CV = 29.1\n",
      "Minimum SSD = 49341.499; \n",
      "Max log-likelihood = -56.709\n",
      "Correlation matrix = [!!!! PRINTOUT OF CORRELATION MATRIX NOT IMPLEMENTED YET. SORRY.\n",
      "\n",
      "\n",
      "LIKELIHOOD INTERVALS\n",
      "2.8-unit Likelihood Intervals  (equivalent SD for Gaussian- 2.37)\n",
      "Lmax= -56.7091;   Lcrit= -59.5057\n",
      "Parameter 1:   Ymin\t= 0\t  (fixed)\n",
      "Parameter 2:   Ymax\t= 790.022\t  LOWER = 657.077\t  UPPER limit not found\n",
      "Parameter 3:   EC50\t= 76.5754\t  LOWER = 49.4445\t  UPPER limit not found\n",
      "Parameter 4:   nH  \t= 1.43717\t  LOWER = 0.370631\t  UPPER = 3.38511\n",
      "\n",
      "\tFitting session for Set 7 initialised!\n",
      "*************************************************\n",
      "\tSet 7 fit finished\n",
      "Number of point fitted = 8\n",
      "Number of parameters estimated = 3\n",
      "Degrees of freedom = 5\n",
      "Residual error SD = 65.191      (variance = 4249.931)\n",
      "Parameter 1: Ymin  \t= 0  \t  (fixed)\n",
      "Parameter 2: Ymax  \t= 857.849  \t  Approx SD = 583.943\t  CV = 68.1\n",
      "Parameter 3: EC50  \t= 123.706  \t  Approx SD = 226.924\t  CV = 183.4\n",
      "Parameter 4: nH    \t= 0.84864  \t  Approx SD = 0.588843\t  CV = 69.4\n",
      "Minimum SSD = 21249.654; \n",
      "Max log-likelihood = -42.890\n",
      "Correlation matrix = [!!!! PRINTOUT OF CORRELATION MATRIX NOT IMPLEMENTED YET. SORRY.\n",
      "\n",
      "WARNING: SOME PARAMETERS ARE STRONGLY CORRELATED (coeff > 0.9); try different guesses\n",
      "WARNING: SOME PARAMETERS POORLY DEFINED (CV > 33%); try different guesses\n",
      "\n",
      "LIKELIHOOD INTERVALS\n",
      "3.31-unit Likelihood Intervals  (equivalent SD for Gaussian- 2.57)\n",
      "Lmax= -42.8901;   Lcrit= -46.1951\n",
      "Parameter 1:   Ymin\t= 0\t  (fixed)\n",
      "Parameter 2:   Ymax\t= 857.849\t  LOWER = 521.372\t  UPPER limit not found\n",
      "Parameter 3:   EC50\t= 123.706\t  LOWER limit not found\t  UPPER limit not found\n",
      "Parameter 4:   nH  \t= 0.84864\t  LOWER = 0.257637\t  UPPER = 2.87409\n",
      "\n",
      "*************************************************\n",
      "\tAverage of all fits:\n",
      "Average of estimates of 7 sets (mean +/- sdm):\n",
      "Parameter 1: Ymin  \t= 0 +/- 0\n",
      "\t(all: 0.0\t0.0\t0.0\t0.0\t0.0\t0.0\t0.0\n",
      "Parameter 2: Ymax  \t= 822.422 +/- 113.125\n",
      "\t(all: 833.0587839032667\t514.6031900390151\t1304.8813992463793\t1102.031990971152\t354.5064053066929\t790.0222253853202\t857.8494942021994\n",
      "Parameter 3: EC50  \t= 108.172 +/- 7.55672\n",
      "\t(all: 98.12807965988637\t89.42136150390533\t121.94773360357628\t108.998236660094\t138.42969384568494\t76.57544369010924\t123.70612709424957\n",
      "Parameter 4: nH    \t= 1.07148 +/- 0.089133\n",
      "\t(all: 0.9423021137465801\t1.400910439169317\t0.7912902082093515\t1.0500828134566087\t1.0299493581183632\t1.4371743015963652\t0.848640070311413\n"
     ]
    }
   ],
   "source": [
    "# initiate fitting sessions, fit data and print results\n",
    "fitsessions = MultipleFitSession()\n",
    "for each in sets:\n",
    "    equation = eqfit(eqname)\n",
    "    fs = SingleFitSession(each, equation)\n",
    "    fs.fit()\n",
    "    fs.calculate_errors()\n",
    "    print('\\n*************************************************')\n",
    "    print('\\t' + fs.data.title + ' fit finished')\n",
    "    print(fs.string_estimates())\n",
    "    print(fs.string_liklimits())\n",
    "    #plots.plot_hill_fit_result_single(fname, fsession.data, fsession.eq, plotguess=True)\n",
    "    fitsessions.add(fs)\n",
    "print('\\n*************************************************')\n",
    "print('\\tAverage of all fits:')\n",
    "print(fitsessions.string_average_estimates())"
   ]
  },
  {
   "cell_type": "code",
   "execution_count": 8,
   "metadata": {},
   "outputs": [
    {
     "data": {
      "image/png": "[encoded data removed]",
      "text/plain": [
       "<Figure size 432x288 with 1 Axes>"
      ]
     },
     "metadata": {},
     "output_type": "display_data"
    }
   ],
   "source": [
    "fplots = fitsessions.prepare_fplot('fit')\n",
    "for each in sets:\n",
    "    semilogx(each.X, each.Y, 'o', label=each.title)\n",
    "for fp in fplots:\n",
    "    semilogx(fp[0], fp[1], 'b-')"
   ]
  },
  {
   "cell_type": "code",
   "execution_count": 9,
   "metadata": {},
   "outputs": [
    {
     "data": {
      "image/png": "[encoded data removed]",
      "text/plain": [
       "<Figure size 432x288 with 1 Axes>"
      ]
     },
     "metadata": {},
     "output_type": "display_data"
    }
   ],
   "source": [
    "for fs in fitsessions.list:\n",
    "    fs.eq.normalise(fs.data)\n",
    "fplots = fitsessions.prepare_fplot('norm')\n",
    "for each in sets:\n",
    "    semilogx(each.X, each.normY, 'o', label=each.title)\n",
    "for fp in fplots:\n",
    "    semilogx(fp[0], fp[1], 'b-')"
   ]
  },
  {
   "cell_type": "code",
   "execution_count": 10,
   "metadata": {},
   "outputs": [
    {
     "name": "stdout",
     "output_type": "stream",
     "text": [
      "data: WARNING : some SD equal to 0;cannot be used for weights; reverting to weightmode = 1\n",
      "\n",
      "\tFitting session for Pooled data initialised!\n",
      "***********************\n",
      "**************************\n",
      "\tNormalised and pooled data fit finished\n",
      "Number of point fitted = 64\n",
      "Number of parameters estimated = 3\n",
      "Degrees of freedom = 61\n",
      "Residual error SD = 0.097      (variance = 0.009)\n",
      "Parameter 1: Ymin  \t= 0  \t  (fixed)\n",
      "Parameter 2: Ymax  \t= 0.90282  \t  Approx SD = 0.064434\t  CV = 7.1\n",
      "Parameter 3: EC50  \t= 78.5831  \t  Approx SD = 13.6349\t  CV = 17.4\n",
      "Parameter 4: nH    \t= 1.16172  \t  Approx SD = 0.144831\t  CV = 12.5\n",
      "Minimum SSD = 0.573; \n",
      "Max log-likelihood = 60.070\n",
      "Correlation matrix = [!!!! PRINTOUT OF CORRELATION MATRIX NOT IMPLEMENTED YET. SORRY.\n",
      "\n",
      "WARNING: SOME PARAMETERS ARE STRONGLY CORRELATED (coeff > 0.9); try different guesses\n",
      "\n",
      "LIKELIHOOD INTERVALS\n",
      "2-unit Likelihood Intervals  (equivalent SD for Gaussian- 2)\n",
      "Lmax= 60.0696;   Lcrit= 58.0702\n",
      "Parameter 1:   Ymin\t= 0\t  (fixed)\n",
      "Parameter 2:   Ymax\t= 0.90282\t  LOWER = 0.838396\t  UPPER limit not found\n",
      "Parameter 3:   EC50\t= 78.5831\t  LOWER = 66.761\t  UPPER limit not found\n",
      "Parameter 4:   nH  \t= 1.16172\t  LOWER limit not found\t  UPPER = 1.37384\n"
     ]
    }
   ],
   "source": [
    "# pool data and fit pooled\n",
    "fitsessions.pool(norm=True)\n",
    "fitsessions.pooled.fit()\n",
    "fitsessions.pooled.calculate_errors()\n",
    "fitsessions.pooled.data.average_pooled()\n",
    "print('\\n***********************\\n**************************')\n",
    "print('\\tNormalised and pooled data fit finished')\n",
    "print(fitsessions.pooled.string_estimates())\n",
    "print(fitsessions.pooled.string_liklimits())"
   ]
  },
  {
   "cell_type": "code",
   "execution_count": 11,
   "metadata": {},
   "outputs": [
    {
     "data": {
      "image/png": "[encoded data removed]",
      "text/plain": [
       "<Figure size 432x288 with 1 Axes>"
      ]
     },
     "metadata": {},
     "output_type": "display_data"
    }
   ],
   "source": [
    "# plot pooled data fit\n",
    "fplots = fitsessions.prepare_fplot('pooled')\n",
    "fig = plots.cvfit_plot([fitsessions.pooled.data], fig=None, fplotsets=fplots, \n",
    "    fplotline='b-', logX=True, logY=False, legend=False, pooled=True)"
   ]
  },
  {
   "cell_type": "code",
   "execution_count": 12,
   "metadata": {},
   "outputs": [],
   "source": [
    "fout = open(fname[:-5] + '_points.txt', 'w')\n",
    "for i in range(len(fitsessions.pooled.data.avX)):\n",
    "    fout.write('{0:.6e}\\t{1:.6e}\\t{2:.6e}\\n'.\n",
    "        format(fitsessions.pooled.data.avX[i], \n",
    "        fitsessions.pooled.data.avY[i],\n",
    "        fitsessions.pooled.data.avS[i]))\n",
    "fout.close()\n",
    "fout = open(fname[:-5] + '_fit.txt', 'w')\n",
    "for i in range(len(fplots[0][0])):\n",
    "    fout.write('{0:.6e}\\t{1:.6e}\\n'.\n",
    "        format(fplots[0][0][i], fplots[0][1][i]))\n",
    "fout.close()"
   ]
  },
  {
   "cell_type": "code",
   "execution_count": null,
   "metadata": {},
   "outputs": [],
   "source": []
  }
 ],
 "metadata": {
  "kernelspec": {
   "display_name": "Python 3",
   "language": "python",
   "name": "python3"
  },
  "language_info": {
   "codemirror_mode": {
    "name": "ipython",
    "version": 3
   },
   "file_extension": ".py",
   "mimetype": "text/x-python",
   "name": "python",
   "nbconvert_exporter": "python",
   "pygments_lexer": "ipython3",
   "version": "3.6.5"
  }
 },
 "nbformat": 4,
 "nbformat_minor": 1
}
