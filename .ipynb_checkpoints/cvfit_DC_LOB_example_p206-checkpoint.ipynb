{
 "cells": [
  {
   "cell_type": "code",
   "execution_count": 1,
   "metadata": {},
   "outputs": [],
   "source": [
    "%matplotlib inline\n",
    "from pylab import*\n",
    "import numpy as np"
   ]
  },
  {
   "cell_type": "code",
   "execution_count": 2,
   "metadata": {},
   "outputs": [],
   "source": [
    "from cvfit import fitting\n",
    "from cvfit.fitting import SingleFitSession\n",
    "from cvfit.fitting import MultipleFitSession\n",
    "from cvfit.fitting import simplex\n",
    "from cvfit import data\n",
    "\n",
    "from cvfit.errors import residuals\n",
    "from cvfit.errors import SSD\n",
    "from cvfit.errors import SSDlik"
   ]
  },
  {
   "cell_type": "code",
   "execution_count": 3,
   "metadata": {},
   "outputs": [
    {
     "name": "stdout",
     "output_type": "stream",
     "text": [
      "\n",
      "X\tY\ts(Y)\tweight\n",
      "2.5\t5.576\t0\t1\n",
      "5\t7.282\t0\t1\n",
      "10\t12.521\t0\t1\n",
      "20\t16.138\t0\t1\n",
      "40\t23.219\t0\t1\n",
      "\n"
     ]
    }
   ],
   "source": [
    "dataset = data.XYDataSet()\n",
    "X = [2.5, 5.0, 10.0, 20.0, 40.0]\n",
    "Y = [5.576, 7.282, 12.521, 16.138, 23.219]\n",
    "S = None #[1.2003]*5\n",
    "dataset.from_columns(X, Y, S)\n",
    "print(dataset)"
   ]
  },
  {
   "cell_type": "code",
   "execution_count": 11,
   "metadata": {},
   "outputs": [],
   "source": [
    "from cvfit.equations import Hill\n",
    "eq = Hill('Langmuir')\n",
    "#fs = SingleFitSession(dataset, eq)\n",
    "eq.propose_guesses(dataset)\n",
    "eq.guess = np.array([0.0, 31.0, 15.0, 1.0])\n",
    "eq.pars = eq.guess.copy()"
   ]
  },
  {
   "cell_type": "code",
   "execution_count": 12,
   "metadata": {},
   "outputs": [],
   "source": [
    "coeffs, Smin = simplex(SSD, eq.theta, eq, dataset.X, dataset.Y, dataset.W)\n",
    "eq.theta = coeffs\n",
    "kfit = len(np.nonzero(np.invert(eq.fixed))[0])\n",
    "ndf = dataset.size() - kfit\n",
    "var = Smin / ndf\n",
    "Sres = sqrt(var)\n",
    "Lmax = -SSDlik(eq.theta, eq, dataset)"
   ]
  },
  {
   "cell_type": "code",
   "execution_count": 13,
   "metadata": {},
   "outputs": [
    {
     "name": "stdout",
     "output_type": "stream",
     "text": [
      "Number of point fitted = 5\n",
      "\n",
      "Number of parameters estimated = 2\n",
      "\n",
      "Degrees of freedom = 3\n",
      "\n",
      "Residual error SD = 1.200      (variance = 1.441)\n",
      "\n",
      "Minimum SSD = 4.322; \n",
      "Max log-likelihood = -6.730\n"
     ]
    }
   ],
   "source": [
    "print('Number of point fitted = {0:d}'.format(dataset.size()))\n",
    "print('\\nNumber of parameters estimated = {0:d}'.format(kfit))\n",
    "print('\\nDegrees of freedom = {0:d}'.format(ndf))\n",
    "print('\\nResidual error SD = {0:.3f}      (variance = {1:.3f})'.format(Sres, var))\n",
    "print('\\nMinimum SSD = {0:.3f}; \\nMax log-likelihood = {1:.3f}'.format(Smin, Lmax))"
   ]
  },
  {
   "cell_type": "code",
   "execution_count": null,
   "metadata": {},
   "outputs": [],
   "source": []
  },
  {
   "cell_type": "code",
   "execution_count": 5,
   "metadata": {},
   "outputs": [
    {
     "name": "stdout",
     "output_type": "stream",
     "text": [
      "Number of point fitted = 5\n",
      "Number of parameters estimated = 2\n",
      "Degrees of freedom = 3\n",
      "Residual error SD = 1.247      (variance = 1.555)\n",
      "Parameter 1: Ymin  \t= 0  \t  (fixed)\n",
      "Parameter 2: Ymax  \t= 30.1201  \t  Approx SD = 3.124\t  CV = 10.4\n",
      "Parameter 3: EC50  \t= 14.1212  \t  Approx SD = 3.4052\t  CV = 24.1\n",
      "Minimum SSD = 4.665; \n",
      "Max log-likelihood = -6.922\n",
      "Correlation matrix = [!!!! PRINTOUT OF CORRELATION MATRIX NOT IMPLEMENTED YET. SORRY.\n",
      "\n",
      "WARNING: SOME PARAMETERS ARE STRONGLY CORRELATED (coeff > 0.9); try different guesses\n",
      "\n",
      "LIKELIHOOD INTERVALS\n",
      "5.06-unit Likelihood Intervals  (equivalent SD for Gaussian- 3.18)\n",
      "Lmax= -6.92151;   Lcrit= -11.9841\n",
      "Parameter 1:   Ymin\t= 0\t  (fixed)\n",
      "Parameter 2:   Ymax\t= 30.1201\t  LOWER = 20.2766\t  UPPER = 69.3388\n",
      "Parameter 3:   EC50\t= 14.1212\t  LOWER = 5.02122\t  UPPER = 67.4515\n"
     ]
    }
   ],
   "source": [
    "fs.fit()\n",
    "fs.calculate_errors()\n",
    "print(fs.string_estimates())\n",
    "print(fs.string_liklimits())"
   ]
  },
  {
   "cell_type": "code",
   "execution_count": null,
   "metadata": {},
   "outputs": [],
   "source": []
  }
 ],
 "metadata": {
  "kernelspec": {
   "display_name": "Python 3",
   "language": "python",
   "name": "python3"
  },
  "language_info": {
   "codemirror_mode": {
    "name": "ipython",
    "version": 3
   },
   "file_extension": ".py",
   "mimetype": "text/x-python",
   "name": "python",
   "nbconvert_exporter": "python",
   "pygments_lexer": "ipython3",
   "version": "3.6.5"
  }
 },
 "nbformat": 4,
 "nbformat_minor": 1
}
