{
 "cells": [
  {
   "cell_type": "code",
   "execution_count": 1,
   "metadata": {},
   "outputs": [],
   "source": [
    "%matplotlib inline"
   ]
  },
  {
   "cell_type": "code",
   "execution_count": 2,
   "metadata": {},
   "outputs": [],
   "source": [
    "from pylab import*\n",
    "import numpy as np"
   ]
  },
  {
   "cell_type": "code",
   "execution_count": 3,
   "metadata": {},
   "outputs": [],
   "source": [
    "#import sys\n",
    "#sys.path.append('\\CVFIT')"
   ]
  },
  {
   "cell_type": "code",
   "execution_count": 4,
   "metadata": {},
   "outputs": [],
   "source": [
    "#from cvfit import fitting\n",
    "from cvfit.fitting import SingleFitSession\n",
    "from cvfit.fitting import MultipleFitSession\n",
    "from cvfit import data\n",
    "from cvfit import plots"
   ]
  },
  {
   "cell_type": "code",
   "execution_count": 5,
   "metadata": {
    "scrolled": false
   },
   "outputs": [
    {
     "name": "stdout",
     "output_type": "stream",
     "text": [
      "File Chimera1_tofit.xlsx loaded\n",
      "7 sets found.\n",
      "\n",
      "Set #1:\n",
      "\n",
      "X\tY\ts(Y)\tweight\n",
      "0.05\t319.964\t0\t1\n",
      "0.1\t1052.76\t0\t1\n",
      "0.2\t2254.67\t0\t1\n",
      "0.5\t3319.22\t0\t1\n",
      "1\t2616.93\t0\t1\n",
      "2\t3593.12\t0\t1\n",
      "5\t3352.19\t0\t1\n",
      "10\t3782.98\t0\t1\n",
      "10\t3515.37\t0\t1\n",
      "10\t3536.82\t0\t1\n",
      "10\t3366.5\t0\t1\n",
      "\n",
      "\n",
      "Set #2:\n",
      "\n",
      "X\tY\ts(Y)\tweight\n",
      "0.05\t397.973\t0\t1\n",
      "0.1\t1103.26\t0\t1\n",
      "0.2\t2264.53\t0\t1\n",
      "0.5\t3784.67\t0\t1\n",
      "1\t3599.15\t0\t1\n",
      "2\t3859.39\t0\t1\n",
      "2\t2848.39\t0\t1\n",
      "5\t3162.45\t0\t1\n",
      "10\t3832.87\t0\t1\n",
      "10\t3423.72\t0\t1\n",
      "10\t3100.23\t0\t1\n",
      "10\t2826.72\t0\t1\n",
      "\n",
      "\n",
      "Set #3:\n",
      "\n",
      "X\tY\ts(Y)\tweight\n",
      "0.05\t306.079\t0\t1\n",
      "0.1\t919.307\t0\t1\n",
      "0.2\t3028.15\t0\t1\n",
      "0.5\t5813.87\t0\t1\n",
      "0.5\t6791.47\t0\t1\n",
      "1\t6837.33\t0\t1\n",
      "2\t8897.22\t0\t1\n",
      "5\t7781.85\t0\t1\n",
      "10\t5340.77\t0\t1\n",
      "10\t7864.58\t0\t1\n",
      "10\t8860.95\t0\t1\n",
      "10\t9055.28\t0\t1\n",
      "\n",
      "\n",
      "Set #4:\n",
      "\n",
      "X\tY\ts(Y)\tweight\n",
      "0.05\t282.312\t0\t1\n",
      "0.1\t855.595\t0\t1\n",
      "0.2\t2562.56\t0\t1\n",
      "0.5\t3911.4\t0\t1\n",
      "1\t4492.65\t0\t1\n",
      "2\t4426.95\t0\t1\n",
      "2\t3999\t0\t1\n",
      "5\t4307.51\t0\t1\n",
      "10\t5588.11\t0\t1\n",
      "10\t3752.53\t0\t1\n",
      "10\t3003.99\t0\t1\n",
      "10\t4824.4\t0\t1\n",
      "10\t4606.37\t0\t1\n",
      "10\t4689.06\t0\t1\n",
      "\n",
      "\n",
      "Set #5:\n",
      "\n",
      "X\tY\ts(Y)\tweight\n",
      "0.05\t296.948\t0\t1\n",
      "0.1\t977.019\t0\t1\n",
      "0.2\t2275.37\t0\t1\n",
      "0.5\t4314.2\t0\t1\n",
      "0.5\t6128.02\t0\t1\n",
      "1\t3899.71\t0\t1\n",
      "1\t6217.41\t0\t1\n",
      "2\t7183.85\t0\t1\n",
      "5\t4733.49\t0\t1\n",
      "10\t6116.6\t0\t1\n",
      "10\t5075.93\t0\t1\n",
      "10\t7630.73\t0\t1\n",
      "10\t7622.14\t0\t1\n",
      "10\t7260.46\t0\t1\n",
      "\n",
      "\n",
      "Set #6:\n",
      "\n",
      "X\tY\ts(Y)\tweight\n",
      "0.05\t257.781\t0\t1\n",
      "0.1\t980.898\t0\t1\n",
      "0.2\t2751.72\t0\t1\n",
      "0.5\t3103.99\t0\t1\n",
      "1\t3712.55\t0\t1\n",
      "2\t3516.46\t0\t1\n",
      "5\t4374.71\t0\t1\n",
      "10\t3803.67\t0\t1\n",
      "10\t4328.67\t0\t1\n",
      "10\t5021.01\t0\t1\n",
      "\n",
      "\n",
      "Set #7:\n",
      "\n",
      "X\tY\ts(Y)\tweight\n",
      "0.05\t825.581\t0\t1\n",
      "0.1\t1235.18\t0\t1\n",
      "0.2\t3923.25\t0\t1\n",
      "0.5\t5244.38\t0\t1\n",
      "1\t6523.26\t0\t1\n",
      "2\t6159.81\t0\t1\n",
      "5\t5764.82\t0\t1\n",
      "10\t6834.3\t0\t1\n",
      "10\t5819.93\t0\t1\n",
      "10\t5970.89\t0\t1\n",
      "\n"
     ]
    }
   ],
   "source": [
    "fname = \"Chimera1_tofit.xlsx\"\n",
    "sheet = 0\n",
    "sets = data.read_sets_from_Excel(fname, 2, 0, sheet)\n",
    "\n",
    "print('File {0} loaded'.format(fname))\n",
    "print('{0:d} sets found.'.format(len(sets)))\n",
    "    \n",
    "#sets = fitting.set_weights(sets)\n",
    "for i in range(len(sets)):\n",
    "    print ('\\nSet #{0:d}:'.format(i+1))\n",
    "    print (sets[i])"
   ]
  },
  {
   "cell_type": "code",
   "execution_count": 6,
   "metadata": {},
   "outputs": [],
   "source": [
    "eqname = 'Hill'\n",
    "if eqname == 'Hill' or eqname == 'Langmuir':\n",
    "        from cvfit.equations import Hill as eqfit"
   ]
  },
  {
   "cell_type": "markdown",
   "metadata": {},
   "source": [
    "# Example of multiple fit session"
   ]
  },
  {
   "cell_type": "code",
   "execution_count": 7,
   "metadata": {
    "scrolled": false
   },
   "outputs": [
    {
     "name": "stdout",
     "output_type": "stream",
     "text": [
      "\n",
      "\tFitting session for Set 1 initialised!\n",
      "*************************************************\n",
      "\tSet 1 fit finished\n",
      "Number of point fitted = 11\n",
      "Number of parameters estimated = 3\n",
      "Degrees of freedom = 8\n",
      "Residual error SD = 308.702      (variance = 95296.779)\n",
      "Parameter 1: Ymin  \t= 0  \t  (fixed)\n",
      "Parameter 2: Ymax  \t= 3441.76  \t  Approx SD = 126.855\t  CV = 3.7\n",
      "Parameter 3: EC50  \t= 0.149401  \t  Approx SD = 0.0227037\t  CV = 15.2\n",
      "Parameter 4: nH    \t= 1.92299  \t  Approx SD = 0.618571\t  CV = 32.2\n",
      "Minimum SSD = 762374.235; \n",
      "Max log-likelihood = -76.913\n",
      "Correlation matrix = [!!!! PRINTOUT OF CORRELATION MATRIX NOT IMPLEMENTED YET. SORRY.\n",
      "\n",
      "\n",
      "LIKELIHOOD INTERVALS\n",
      "2.66-unit Likelihood Intervals  (equivalent SD for Gaussian- 2.31)\n",
      "Lmax= -76.913;   Lcrit= -79.5718\n",
      "Parameter 1:   Ymin\t= 0\t  (fixed)\n",
      "Parameter 2:   Ymax\t= 3441.76\t  LOWER = 3172.08\t  UPPER = 3761.71\n",
      "Parameter 3:   EC50\t= 0.149401\t  LOWER = 0.108294\t  UPPER = 0.223025\n",
      "Parameter 4:   nH  \t= 1.92299\t  LOWER = 0.981329\t  UPPER = 3.98462\n",
      "\n",
      "\tFitting session for Set 2 initialised!\n",
      "*************************************************\n",
      "\tSet 2 fit finished\n",
      "Number of point fitted = 12\n",
      "Number of parameters estimated = 3\n",
      "Degrees of freedom = 9\n",
      "Residual error SD = 490.375      (variance = 240467.725)\n",
      "Parameter 1: Ymin  \t= 0  \t  (fixed)\n",
      "Parameter 2: Ymax  \t= 3473.51  \t  Approx SD = 184.372\t  CV = 5.3\n",
      "Parameter 3: EC50  \t= 0.14148  \t  Approx SD = 0.0358968\t  CV = 25.4\n",
      "Parameter 4: nH    \t= 1.41338  \t  Approx SD = 0.426992\t  CV = 30.2\n",
      "Minimum SSD = 2164209.526; \n",
      "Max log-likelihood = -89.643\n",
      "Correlation matrix = [!!!! PRINTOUT OF CORRELATION MATRIX NOT IMPLEMENTED YET. SORRY.\n",
      "\n",
      "\n",
      "LIKELIHOOD INTERVALS\n",
      "2.56-unit Likelihood Intervals  (equivalent SD for Gaussian- 2.26)\n",
      "Lmax= -89.6432;   Lcrit= -92.2015\n",
      "Parameter 1:   Ymin\t= 0\t  (fixed)\n",
      "Parameter 2:   Ymax\t= 3473.51\t  LOWER = 2932.65\t  UPPER = 3848.21\n",
      "Parameter 3:   EC50\t= 0.14148\t  LOWER = 0.0734449\t  UPPER = 0.235842\n",
      "Parameter 4:   nH  \t= 1.41338\t  LOWER = 0.907816\t  UPPER limit not found\n",
      "\n",
      "\tFitting session for Set 3 initialised!\n",
      "*************************************************\n",
      "\tSet 3 fit finished\n",
      "Number of point fitted = 12\n",
      "Number of parameters estimated = 3\n",
      "Degrees of freedom = 9\n",
      "Residual error SD = 1174.920      (variance = 1380437.866)\n",
      "Parameter 1: Ymin  \t= 0  \t  (fixed)\n",
      "Parameter 2: Ymax  \t= 8284.15  \t  Approx SD = 526.84\t  CV = 6.4\n",
      "Parameter 3: EC50  \t= 0.270345  \t  Approx SD = 0.0660932\t  CV = 24.4\n",
      "Parameter 4: nH    \t= 1.45123  \t  Approx SD = 0.44539\t  CV = 30.7\n",
      "Minimum SSD = 12423940.792; \n",
      "Max log-likelihood = -100.129\n",
      "Correlation matrix = [!!!! PRINTOUT OF CORRELATION MATRIX NOT IMPLEMENTED YET. SORRY.\n",
      "\n",
      "\n",
      "LIKELIHOOD INTERVALS\n",
      "2.56-unit Likelihood Intervals  (equivalent SD for Gaussian- 2.26)\n",
      "Lmax= -100.129;   Lcrit= -102.687\n",
      "Parameter 1:   Ymin\t= 0\t  (fixed)\n",
      "Parameter 2:   Ymax\t= 8284.15\t  LOWER = 6771.24\t  UPPER = 9186.08\n",
      "Parameter 3:   EC50\t= 0.270345\t  LOWER = 0.142742\t  UPPER = 0.438974\n",
      "Parameter 4:   nH  \t= 1.45123\t  LOWER = 0.872725\t  UPPER limit not found\n",
      "\n",
      "\tFitting session for Set 4 initialised!\n",
      "*************************************************\n",
      "\tSet 4 fit finished\n",
      "Number of point fitted = 14\n",
      "Number of parameters estimated = 3\n",
      "Degrees of freedom = 11\n",
      "Residual error SD = 683.676      (variance = 467413.121)\n",
      "Parameter 1: Ymin  \t= 0  \t  (fixed)\n",
      "Parameter 2: Ymax  \t= 4490.56  \t  Approx SD = 251.951\t  CV = 5.6\n",
      "Parameter 3: EC50  \t= 0.180194  \t  Approx SD = 0.051064\t  CV = 28.3\n",
      "Parameter 4: nH    \t= 1.27711  \t  Approx SD = 0.424834\t  CV = 33.3\n",
      "Minimum SSD = 5141544.336; \n",
      "Max log-likelihood = -109.562\n",
      "Correlation matrix = [!!!! PRINTOUT OF CORRELATION MATRIX NOT IMPLEMENTED YET. SORRY.\n",
      "\n",
      "WARNING: SOME PARAMETERS POORLY DEFINED (CV > 33%); try different guesses\n",
      "\n",
      "LIKELIHOOD INTERVALS\n",
      "2.42-unit Likelihood Intervals  (equivalent SD for Gaussian- 2.2)\n",
      "Lmax= -109.562;   Lcrit= -111.984\n",
      "Parameter 1:   Ymin\t= 0\t  (fixed)\n",
      "Parameter 2:   Ymax\t= 4490.56\t  LOWER = 3827.71\t  UPPER = 5026.69\n",
      "Parameter 3:   EC50\t= 0.180194\t  LOWER = 0.0974363\t  UPPER = 0.351416\n",
      "Parameter 4:   nH  \t= 1.27711\t  LOWER = 0.758441\t  UPPER limit not found\n",
      "\n",
      "\tFitting session for Set 5 initialised!"
     ]
    },
    {
     "name": "stderr",
     "output_type": "stream",
     "text": [
      "C:\\DCPROGS\\CVFIT\\cvfit\\equations.py:167: RuntimeWarning: invalid value encountered in power\n",
      "  return (coeff[0] + ((coeff[1] - coeff[0]) * (conc / coeff[2]) ** coeff[3]) /\n",
      "C:\\DCPROGS\\CVFIT\\cvfit\\equations.py:168: RuntimeWarning: invalid value encountered in power\n",
      "  (1 + (conc / coeff[2]) ** coeff[3]))\n"
     ]
    },
    {
     "name": "stdout",
     "output_type": "stream",
     "text": [
      "\n",
      "*************************************************\n",
      "\tSet 5 fit finished\n",
      "Number of point fitted = 14\n",
      "Number of parameters estimated = 3\n",
      "Degrees of freedom = 11\n",
      "Residual error SD = 1169.980      (variance = 1368853.563)\n",
      "Parameter 1: Ymin  \t= 0  \t  (fixed)\n",
      "Parameter 2: Ymax  \t= 6452.43  \t  Approx SD = 494.246\t  CV = 7.7\n",
      "Parameter 3: EC50  \t= 0.266666  \t  Approx SD = 0.0801916\t  CV = 30.1\n",
      "Parameter 4: nH    \t= 1.65824  \t  Approx SD = 0.743895\t  CV = 44.9\n",
      "Minimum SSD = 15057389.196; \n",
      "Max log-likelihood = -117.083\n",
      "Correlation matrix = [!!!! PRINTOUT OF CORRELATION MATRIX NOT IMPLEMENTED YET. SORRY.\n",
      "\n",
      "WARNING: SOME PARAMETERS POORLY DEFINED (CV > 33%); try different guesses\n",
      "\n",
      "LIKELIHOOD INTERVALS\n",
      "2.42-unit Likelihood Intervals  (equivalent SD for Gaussian- 2.2)\n",
      "Lmax= -117.083;   Lcrit= -119.506\n",
      "Parameter 1:   Ymin\t= 0\t  (fixed)\n",
      "Parameter 2:   Ymax\t= 6452.43\t  LOWER = 5483.58\t  UPPER = 8088.43\n",
      "Parameter 3:   EC50\t= 0.266666\t  LOWER = 0.133945\t  UPPER = 0.576924\n",
      "Parameter 4:   nH  \t= 1.65824\t  LOWER = 0.609339\t  UPPER limit not found\n",
      "\n",
      "\tFitting session for Set 6 initialised!\n",
      "*************************************************\n",
      "\tSet 6 fit finished\n",
      "Number of point fitted = 10\n",
      "Number of parameters estimated = 3\n",
      "Degrees of freedom = 7\n",
      "Residual error SD = 497.867      (variance = 247871.501)\n",
      "Parameter 1: Ymin  \t= 0  \t  (fixed)\n",
      "Parameter 2: Ymax  \t= 4254.76  \t  Approx SD = 299.232\t  CV = 7.0\n",
      "Parameter 3: EC50  \t= 0.19692  \t  Approx SD = 0.0596603\t  CV = 30.3\n",
      "Parameter 4: nH    \t= 1.34591  \t  Approx SD = 0.526259\t  CV = 39.1\n",
      "Minimum SSD = 1735100.507; \n",
      "Max log-likelihood = -74.509\n",
      "Correlation matrix = [!!!! PRINTOUT OF CORRELATION MATRIX NOT IMPLEMENTED YET. SORRY.\n",
      "\n",
      "WARNING: SOME PARAMETERS POORLY DEFINED (CV > 33%); try different guesses\n",
      "\n",
      "LIKELIHOOD INTERVALS\n",
      "2.8-unit Likelihood Intervals  (equivalent SD for Gaussian- 2.37)\n",
      "Lmax= -74.5093;   Lcrit= -77.306\n",
      "Parameter 1:   Ymin\t= 0\t  (fixed)\n",
      "Parameter 2:   Ymax\t= 4254.76\t  LOWER = 3665.95\t  UPPER = 5554.02\n",
      "Parameter 3:   EC50\t= 0.19692\t  LOWER = 0.110113\t  UPPER = 0.593755\n",
      "Parameter 4:   nH  \t= 1.34591\t  LOWER = 0.543726\t  UPPER = 5.33253\n",
      "\n",
      "\tFitting session for Set 7 initialised!\n",
      "*************************************************\n",
      "\tSet 7 fit finished\n",
      "Number of point fitted = 10\n",
      "Number of parameters estimated = 3\n",
      "Degrees of freedom = 7\n",
      "Residual error SD = 456.347      (variance = 208252.882)\n",
      "Parameter 1: Ymin  \t= 0  \t  (fixed)\n",
      "Parameter 2: Ymax  \t= 6165.73  \t  Approx SD = 195.091\t  CV = 3.2\n",
      "Parameter 3: EC50  \t= 0.166126  \t  Approx SD = 0.0194908\t  CV = 11.7\n",
      "Parameter 4: nH    \t= 2.09925  \t  Approx SD = 0.509406\t  CV = 24.3\n",
      "Minimum SSD = 1457770.176; \n",
      "Max log-likelihood = -73.639\n",
      "Correlation matrix = [!!!! PRINTOUT OF CORRELATION MATRIX NOT IMPLEMENTED YET. SORRY.\n",
      "\n",
      "\n",
      "LIKELIHOOD INTERVALS\n",
      "2.8-unit Likelihood Intervals  (equivalent SD for Gaussian- 2.37)\n",
      "Lmax= -73.6386;   Lcrit= -76.4352\n",
      "Parameter 1:   Ymin\t= 0\t  (fixed)\n",
      "Parameter 2:   Ymax\t= 6165.73\t  LOWER = 5731.38\t  UPPER = 6629.83\n",
      "Parameter 3:   EC50\t= 0.166126\t  LOWER = 0.127683\t  UPPER = 0.221495\n",
      "Parameter 4:   nH  \t= 2.09925\t  LOWER = 1.28276\t  UPPER = 4.16991\n",
      "\n",
      "*************************************************\n",
      "\tAverage of all fits:\n",
      "Average of estimates of 7 sets (mean +/- sdm):\n",
      "Parameter 1: Ymin  \t= 0 +/- 0\n",
      "\t(all: 0.0\t0.0\t0.0\t0.0\t0.0\t0.0\t0.0\n",
      "Parameter 2: Ymax  \t= 5223.27 +/- 630.49\n",
      "\t(all: 3441.7550903107626\t3473.5148421416375\t8284.153479615938\t4490.562059459366\t6452.430835637782\t4254.760522166977\t6165.731335818786\n",
      "Parameter 3: EC50  \t= 0.195876 +/- 0.0185208\n",
      "\t(all: 0.14940067850526303\t0.1414803540680004\t0.2703454480476842\t0.18019369554834683\t0.2666664726771879\t0.19692037426138928\t0.16612630906267556\n",
      "Parameter 4: nH    \t= 1.59545 +/- 0.109041\n",
      "\t(all: 1.9229919384270482\t1.413380317412475\t1.4512345713316686\t1.2771068390397633\t1.6582426025500328\t1.3459112632602692\t2.0992539683289126\n"
     ]
    }
   ],
   "source": [
    "# initiate fitting sessions, fit data and print results\n",
    "fitsessions = MultipleFitSession()\n",
    "for each in sets:\n",
    "    equation = eqfit(eqname)\n",
    "    fs = SingleFitSession(each, equation)\n",
    "    fs.fit()\n",
    "    fs.calculate_errors()\n",
    "    print('\\n*************************************************')\n",
    "    print('\\t' + fs.data.title + ' fit finished')\n",
    "    print(fs.string_estimates())\n",
    "    print(fs.string_liklimits())\n",
    "    #plots.plot_hill_fit_result_single(fname, fsession.data, fsession.eq, plotguess=True)\n",
    "    fitsessions.add(fs)\n",
    "print('\\n*************************************************')\n",
    "print('\\tAverage of all fits:')\n",
    "print(fitsessions.string_average_estimates())"
   ]
  },
  {
   "cell_type": "code",
   "execution_count": 8,
   "metadata": {},
   "outputs": [
    {
     "data": {
      "image/png": "[encoded data removed]",
      "text/plain": [
       "<Figure size 432x288 with 1 Axes>"
      ]
     },
     "metadata": {},
     "output_type": "display_data"
    }
   ],
   "source": [
    "fplots = fitsessions.prepare_fplot('fit')\n",
    "for each in sets:\n",
    "    semilogx(each.X, each.Y, 'o', label=each.title)\n",
    "for fp in fplots:\n",
    "    semilogx(fp[0], fp[1], 'b-')"
   ]
  },
  {
   "cell_type": "code",
   "execution_count": 9,
   "metadata": {},
   "outputs": [
    {
     "data": {
      "image/png": "[encoded data removed]",
      "text/plain": [
       "<Figure size 432x288 with 1 Axes>"
      ]
     },
     "metadata": {},
     "output_type": "display_data"
    }
   ],
   "source": [
    "for fs in fitsessions.list:\n",
    "    fs.eq.normalise(fs.data)\n",
    "fplots = fitsessions.prepare_fplot('norm')\n",
    "for each in sets:\n",
    "    semilogx(each.X, each.normY, 'o', label=each.title)\n",
    "for fp in fplots:\n",
    "    semilogx(fp[0], fp[1], 'b-')"
   ]
  },
  {
   "cell_type": "code",
   "execution_count": 10,
   "metadata": {},
   "outputs": [
    {
     "name": "stdout",
     "output_type": "stream",
     "text": [
      "data: WARNING : some SD equal to 0;cannot be used for weights; reverting to weightmode = 1\n",
      "\n",
      "\tFitting session for Pooled data initialised!"
     ]
    },
    {
     "name": "stderr",
     "output_type": "stream",
     "text": [
      "C:\\DCPROGS\\CVFIT\\cvfit\\equations.py:167: RuntimeWarning: invalid value encountered in power\n",
      "  return (coeff[0] + ((coeff[1] - coeff[0]) * (conc / coeff[2]) ** coeff[3]) /\n",
      "C:\\DCPROGS\\CVFIT\\cvfit\\equations.py:168: RuntimeWarning: invalid value encountered in power\n",
      "  (1 + (conc / coeff[2]) ** coeff[3]))\n"
     ]
    },
    {
     "name": "stdout",
     "output_type": "stream",
     "text": [
      "\n",
      "***********************\n",
      "**************************\n",
      "\tNormalised and pooled data fit finished\n",
      "Number of point fitted = 83\n",
      "Number of parameters estimated = 3\n",
      "Degrees of freedom = 80\n",
      "Residual error SD = 0.129      (variance = 0.017)\n",
      "Parameter 1: Ymin  \t= 0  \t  (fixed)\n",
      "Parameter 2: Ymax  \t= 0.986169  \t  Approx SD = 0.0197886\t  CV = 2.0\n",
      "Parameter 3: EC50  \t= 0.178344  \t  Approx SD = 0.0153337\t  CV = 8.6\n",
      "Parameter 4: nH    \t= 1.57795  \t  Approx SD = 0.192939\t  CV = 12.2\n",
      "Minimum SSD = 1.326; \n",
      "Max log-likelihood = 53.894\n",
      "Correlation matrix = [!!!! PRINTOUT OF CORRELATION MATRIX NOT IMPLEMENTED YET. SORRY.\n",
      "\n",
      "\n",
      "LIKELIHOOD INTERVALS\n",
      "1.99-unit Likelihood Intervals  (equivalent SD for Gaussian- 1.99)\n",
      "Lmax= 53.8938;   Lcrit= 51.9071\n",
      "Parameter 1:   Ymin\t= 0\t  (fixed)\n",
      "Parameter 2:   Ymax\t= 0.986169\t  LOWER = 0.933165\t  UPPER = 1.02816\n",
      "Parameter 3:   EC50\t= 0.178344\t  LOWER = 0.150286\t  UPPER = 0.226401\n",
      "Parameter 4:   nH  \t= 1.57795\t  LOWER = 1.3451\t  UPPER = 2.78356\n"
     ]
    }
   ],
   "source": [
    "# pool data and fit pooled\n",
    "fitsessions.pool(norm=True)\n",
    "fitsessions.pooled.fit()\n",
    "fitsessions.pooled.calculate_errors()\n",
    "fitsessions.pooled.data.average_pooled()\n",
    "print('\\n***********************\\n**************************')\n",
    "print('\\tNormalised and pooled data fit finished')\n",
    "print(fitsessions.pooled.string_estimates())\n",
    "print(fitsessions.pooled.string_liklimits())"
   ]
  },
  {
   "cell_type": "code",
   "execution_count": 12,
   "metadata": {},
   "outputs": [
    {
     "data": {
      "image/png": "[encoded data removed]",
      "text/plain": [
       "<Figure size 432x288 with 1 Axes>"
      ]
     },
     "metadata": {},
     "output_type": "display_data"
    }
   ],
   "source": [
    "# plot pooled data fit\n",
    "fplots = fitsessions.prepare_fplot('pooled')\n",
    "fig = plots.cvfit_plot([fitsessions.pooled.data], fig=None, fplotsets=fplots, \n",
    "    fplotline='b-', logX=True, logY=False, legend=False, pooled=True)"
   ]
  },
  {
   "cell_type": "code",
   "execution_count": 13,
   "metadata": {},
   "outputs": [],
   "source": [
    "fout = open(fname[:-5] + '_points.txt', 'w')\n",
    "for i in range(len(fitsessions.pooled.data.avX)):\n",
    "    fout.write('{0:.6e}\\t{1:.6e}\\t{2:.6e}\\n'.\n",
    "        format(fitsessions.pooled.data.avX[i], \n",
    "        fitsessions.pooled.data.avY[i],\n",
    "        fitsessions.pooled.data.avS[i]))\n",
    "fout.close()\n",
    "fout = open(fname[:-5] + '_fit.txt', 'w')\n",
    "for i in range(len(fplots[0][0])):\n",
    "    fout.write('{0:.6e}\\t{1:.6e}\\n'.\n",
    "        format(fplots[0][0][i], fplots[0][1][i]))\n",
    "fout.close()"
   ]
  },
  {
   "cell_type": "code",
   "execution_count": null,
   "metadata": {},
   "outputs": [],
   "source": []
  }
 ],
 "metadata": {
  "kernelspec": {
   "display_name": "Python 3",
   "language": "python",
   "name": "python3"
  },
  "language_info": {
   "codemirror_mode": {
    "name": "ipython",
    "version": 3
   },
   "file_extension": ".py",
   "mimetype": "text/x-python",
   "name": "python",
   "nbconvert_exporter": "python",
   "pygments_lexer": "ipython3",
   "version": "3.6.5"
  }
 },
 "nbformat": 4,
 "nbformat_minor": 1
}
