{
 "cells": [
  {
   "cell_type": "code",
   "execution_count": 1,
   "metadata": {},
   "outputs": [],
   "source": [
    "%matplotlib inline\n",
    "from pylab import*"
   ]
  },
  {
   "cell_type": "code",
   "execution_count": 2,
   "metadata": {},
   "outputs": [],
   "source": [
    "import os"
   ]
  },
  {
   "cell_type": "code",
   "execution_count": 3,
   "metadata": {},
   "outputs": [],
   "source": [
    "from cvfit import data\n",
    "from cvfit.equations import Linear\n",
    "from cvfit.fitting import SingleFitSession"
   ]
  },
  {
   "cell_type": "code",
   "execution_count": 4,
   "metadata": {
    "scrolled": true
   },
   "outputs": [
    {
     "name": "stdout",
     "output_type": "stream",
     "text": [
      "Loaded: Example.xlsx\n",
      "\n",
      "X\tY\ts(Y)\tweight\n",
      "1\t3.17\t0\t1\n",
      "1\t13.25\t0\t1\n",
      "2\t19.8\t0\t1\n",
      "2\t14.18\t0\t1\n",
      "3\t11.43\t0\t1\n",
      "3\t25.85\t0\t1\n",
      "4\t13.81\t0\t1\n",
      "4\t25.49\t0\t1\n",
      "5\t26.94\t0\t1\n",
      "5\t38.86\t0\t1\n",
      "\n"
     ]
    }
   ],
   "source": [
    "filename = \"./Example/Example.xlsx\"\n",
    "set0 = data.read_sets_from_Excel(filename, 2, 0, 2)[0]\n",
    "print(\"Loaded: \" + os.path.split(str(filename))[1])\n",
    "print (str(set0))"
   ]
  },
  {
   "cell_type": "markdown",
   "metadata": {},
   "source": [
    "# Linear equation fit"
   ]
  },
  {
   "cell_type": "code",
   "execution_count": 5,
   "metadata": {},
   "outputs": [
    {
     "name": "stdout",
     "output_type": "stream",
     "text": [
      "\n",
      "\tFitting session for Set 1 initialised!"
     ]
    }
   ],
   "source": [
    "equation = Linear('Linear')\n",
    "fsession = SingleFitSession(set0, equation)"
   ]
  },
  {
   "cell_type": "code",
   "execution_count": 6,
   "metadata": {},
   "outputs": [
    {
     "name": "stdout",
     "output_type": "stream",
     "text": [
      "Number of point fitted = 10\n",
      "Number of parameters estimated = 2\n",
      "Degrees of freedom = 8\n",
      "Residual error SD = 7.034      (variance = 49.483)\n",
      "Parameter 1: a  \t= 3.666  \t  Approx SD = 5.21687\t  CV = 142.3\n",
      "Parameter 2: b  \t= 5.204  \t  Approx SD = 1.57295\t  CV = 30.2\n",
      "Minimum SSD = 395.865; \n",
      "Max log-likelihood = -32.582\n",
      "Correlation matrix = [!!!! PRINTOUT OF CORRELATION MATRIX NOT IMPLEMENTED YET. SORRY.\n",
      "\n",
      "WARNING: SOME PARAMETERS ARE STRONGLY CORRELATED (coeff > 0.9); try different guesses\n",
      "WARNING: SOME PARAMETERS POORLY DEFINED (CV > 33%); try different guesses\n",
      "\n",
      "LIKELIHOOD INTERVALS\n",
      "2.66-unit Likelihood Intervals  (equivalent SD for Gaussian- 2.31)\n",
      "Lmax= -32.5818;   Lcrit= -35.2406\n",
      "Parameter 1:   a\t= 3.666\t  LOWER limit not found\t  UPPER = 16.0016\n",
      "Parameter 2:   b\t= 5.204\t  LOWER = 1.4776\t  UPPER = 8.92331\n"
     ]
    }
   ],
   "source": [
    "fsession.fit()\n",
    "fsession.calculate_errors()\n",
    "print(fsession.string_estimates())\n",
    "fsession.calculate_errors()\n",
    "print(fsession.string_liklimits())"
   ]
  },
  {
   "cell_type": "code",
   "execution_count": 7,
   "metadata": {},
   "outputs": [
    {
     "data": {
      "image/png": "[encoded data removed]",
      "text/plain": [
       "<Figure size 432x288 with 1 Axes>"
      ]
     },
     "metadata": {},
     "output_type": "display_data"
    }
   ],
   "source": [
    "X, Y = fsession.eq.calculate_plot(fsession.data.X, fsession.eq.pars)\n",
    "plot(fsession.data.X, fsession.data.Y, 'o')\n",
    "plot(X, Y, '-');"
   ]
  },
  {
   "cell_type": "code",
   "execution_count": null,
   "metadata": {},
   "outputs": [],
   "source": []
  }
 ],
 "metadata": {
  "kernelspec": {
   "display_name": "Python 3",
   "language": "python",
   "name": "python3"
  },
  "language_info": {
   "codemirror_mode": {
    "name": "ipython",
    "version": 3
   },
   "file_extension": ".py",
   "mimetype": "text/x-python",
   "name": "python",
   "nbconvert_exporter": "python",
   "pygments_lexer": "ipython3",
   "version": "3.6.5"
  }
 },
 "nbformat": 4,
 "nbformat_minor": 1
}
