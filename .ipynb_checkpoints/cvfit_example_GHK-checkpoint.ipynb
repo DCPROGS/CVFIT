{
 "cells": [
  {
   "cell_type": "code",
   "execution_count": 1,
   "metadata": {},
   "outputs": [],
   "source": [
    "%matplotlib inline\n",
    "from pylab import*"
   ]
  },
  {
   "cell_type": "code",
   "execution_count": 2,
   "metadata": {},
   "outputs": [],
   "source": [
    "import os\n",
    "import numpy as np"
   ]
  },
  {
   "cell_type": "code",
   "execution_count": 3,
   "metadata": {},
   "outputs": [],
   "source": [
    "from cvfit import data\n",
    "from cvfit.equations import GHK\n",
    "from cvfit.fitting import SingleFitSession"
   ]
  },
  {
   "cell_type": "code",
   "execution_count": 4,
   "metadata": {
    "scrolled": true
   },
   "outputs": [
    {
     "name": "stdout",
     "output_type": "stream",
     "text": [
      "Loaded: Example.xlsx\n",
      "\n",
      "X\tY\ts(Y)\tweight\n",
      "5\t-8.42\t0\t1\n",
      "5\t-7.13\t0\t1\n",
      "5\t-9.45\t0\t1\n",
      "5\t-7.01\t0\t1\n",
      "50\t-5.02\t0\t1\n",
      "50\t-6.2\t0\t1\n",
      "50\t-4.96\t0\t1\n",
      "100\t-2.41\t0\t1\n",
      "100\t-1.83\t0\t1\n",
      "100\t-2.16\t0\t1\n",
      "\n"
     ]
    }
   ],
   "source": [
    "filename = \"./Example/Example.xlsx\"\n",
    "set0 = data.read_sets_from_Excel(filename, 2, 0, 3)[0]\n",
    "print(\"Loaded: \" + os.path.split(str(filename))[1])\n",
    "print (str(set0))"
   ]
  },
  {
   "cell_type": "markdown",
   "metadata": {},
   "source": [
    "# Linear equation fit"
   ]
  },
  {
   "cell_type": "code",
   "execution_count": 5,
   "metadata": {},
   "outputs": [
    {
     "name": "stdout",
     "output_type": "stream",
     "text": [
      "\n",
      "\tFitting session for Set 1 initialised!"
     ]
    }
   ],
   "source": [
    "equation = GHK('GHK', pars=np.array([1.0, 150.0, 145.0, 5.0]))\n",
    "fsession = SingleFitSession(set0, equation)"
   ]
  },
  {
   "cell_type": "code",
   "execution_count": 6,
   "metadata": {},
   "outputs": [
    {
     "name": "stdout",
     "output_type": "stream",
     "text": [
      "Number of point fitted = 10\n",
      "Number of parameters estimated = 1\n",
      "Degrees of freedom = 9\n",
      "Residual error SD = 0.776      (variance = 0.602)\n",
      "Parameter 1: r  \t= 0.707792  \t  Approx SD = 0.0102738\t  CV = 1.5\n",
      "Parameter 2: totOut  \t= 150  \t  (fixed)\n",
      "Parameter 3: In1  \t= 145  \t  (fixed)\n",
      "Parameter 4: In2  \t= 5  \t  (fixed)\n",
      "Minimum SSD = 5.422; \n",
      "Max log-likelihood = -11.129\n",
      "Correlation matrix = [!!!! PRINTOUT OF CORRELATION MATRIX NOT IMPLEMENTED YET. SORRY.\n",
      "\n",
      "\n",
      "LIKELIHOOD INTERVALS\n",
      "2.56-unit Likelihood Intervals  (equivalent SD for Gaussian- 2.26)\n",
      "Lmax= -11.1287;   Lcrit= -13.687\n",
      "Parameter 1:   r\t= 0.707792\t  LOWER = 0.682738\t  UPPER = 0.733097\n",
      "Parameter 2:   totOut\t= 150\t  (fixed)\n",
      "Parameter 3:   In1\t= 145\t  (fixed)\n",
      "Parameter 4:   In2\t= 5\t  (fixed)\n"
     ]
    }
   ],
   "source": [
    "fsession.fit()\n",
    "fsession.calculate_errors()\n",
    "print(fsession.string_estimates())\n",
    "print(fsession.string_liklimits())"
   ]
  },
  {
   "cell_type": "code",
   "execution_count": 7,
   "metadata": {},
   "outputs": [],
   "source": [
    "plX, plY = equation.calculate_plot(set0.X, equation.pars)\n",
    "rlim = fsession.Llimits[0]\n",
    "plX1, plY1 = equation.calculate_plot(set0.X, [rlim[0], 150.0, 145.0, 5.0])\n",
    "plX2, plY2 = equation.calculate_plot(set0.X, [rlim[1], 150.0, 145.0, 5.0])\n",
    "set0.average_pooled()"
   ]
  },
  {
   "cell_type": "code",
   "execution_count": 8,
   "metadata": {},
   "outputs": [
    {
     "data": {
      "image/png": "[encoded data removed]",
      "text/plain": [
       "<Figure size 432x288 with 1 Axes>"
      ]
     },
     "metadata": {},
     "output_type": "display_data"
    }
   ],
   "source": [
    "plot(set0.X, set0.Y, 'ro') # all data points\n",
    "errorbar(set0.avX, set0.avY, yerr=set0.avS, fmt='o')\n",
    "plot(plX, plY, 'b-') # fit\n",
    "plot(plX1, plY1, 'k--') # lower likelihood limit\n",
    "plot(plX2, plY2, 'k--') # higher likelihood limit\n",
    "xlabel('Kout, mM')\n",
    "ylabel('Erev, mV');"
   ]
  },
  {
   "cell_type": "code",
   "execution_count": null,
   "metadata": {},
   "outputs": [],
   "source": []
  }
 ],
 "metadata": {
  "kernelspec": {
   "display_name": "Python 3",
   "language": "python",
   "name": "python3"
  },
  "language_info": {
   "codemirror_mode": {
    "name": "ipython",
    "version": 3
   },
   "file_extension": ".py",
   "mimetype": "text/x-python",
   "name": "python",
   "nbconvert_exporter": "python",
   "pygments_lexer": "ipython3",
   "version": "3.6.5"
  }
 },
 "nbformat": 4,
 "nbformat_minor": 1
}
